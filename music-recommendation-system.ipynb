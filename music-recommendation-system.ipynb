{
 "cells": [
  {
   "cell_type": "markdown",
   "id": "b2912bd1",
   "metadata": {},
   "source": [
    "                                    Music Recommendation System"
   ]
  },
  {
   "cell_type": "markdown",
   "id": "c0c8b9af",
   "metadata": {},
   "source": [
    "### Dataset: \n",
    "In this project, we are going to work with two datasets to implement Collaborative Filtering and Content-Based song recommendation system. \n",
    "Datasets: \n",
    "\n",
    "1- <b>MillionSongDataset (MSD):</b> \n",
    "We are working with a subset of this dataset(10k out of 350k)(http://millionsongdataset.com/pages/getting-dataset/)\n",
    "It is possible to access the whole dataset by AWS, however it is not free. \n",
    "Although we are using the subset of this dataset, the code is <b><u>scalable</u></b>.\n",
    "    \n",
    "2- Implicit rating of 1million User(number of time a song played): http://millionsongdataset.com/tasteprofile/\n",
    "\n",
    "#### Packages: "
   ]
  },
  {
   "cell_type": "code",
   "execution_count": 14,
   "id": "11cf7ed4",
   "metadata": {},
   "outputs": [],
   "source": [
    "import numpy as np\n",
    "import pandas as pd\n",
    "import tables   # Note: before installing pytables package, install HDF5, Numexpr, Cython, c-blosc packages\n",
    "import h5py\n",
    "import os\n",
    "import fnmatch\n",
    "import sys\n",
    "\n",
    "import matplotlib.pyplot as plt\n",
    "import seaborn as sns\n",
    "\n",
    "from pyspark.sql import SparkSession, Row\n",
    "from pyspark import SparkContext\n",
    "from pyspark.sql.types import *\n",
    "\n",
    "from pyspark.ml.feature import MinMaxScaler\n",
    "from pyspark.ml.feature import VectorAssembler\n",
    "from pyspark.ml import Pipeline\n",
    "from pyspark.sql.functions import udf\n",
    "from pyspark.sql.types import DoubleType\n",
    "from pyspark_dist_explore import hist # install by \"pip install pyspark_dist_explore\"\n",
    "\n",
    "from pyspark.sql.functions import col,isnan,when,count\n",
    "\n",
    "from pyspark.ml.evaluation import RegressionEvaluator\n",
    "from pyspark.ml.recommendation import ALS\n",
    "from pyspark.sql import Row\n",
    "from pyspark.ml.feature import StringIndexer\n",
    "\n",
    "import pyspark.sql.functions as F\n",
    "from pyspark.sql.types import ArrayType, DoubleType\n",
    "from pyspark.ml.feature import RobustScaler, StandardScaler\n",
    "\n",
    "import sklearn\n",
    "from sklearn.metrics.pairwise import cosine_similarity\n",
    "\n",
    "from pyspark.sql.functions import row_number, monotonically_increasing_id\n",
    "from pyspark.sql import Window\n",
    "from pyspark.sql.window import Window\n",
    "from pyspark.sql.functions import rank, col, pow, psf"
   ]
  },
  {
   "cell_type": "markdown",
   "id": "bf5fcc4d",
   "metadata": {},
   "source": [
    "#### Create spark cluster: "
   ]
  },
  {
   "cell_type": "code",
   "execution_count": 15,
   "id": "4bd9844d",
   "metadata": {},
   "outputs": [],
   "source": [
    "spark = SparkSession.builder.appName(\"Milion Songs Dataset\").getOrCreate()\n",
    "sc = SparkContext.getOrCreate()"
   ]
  },
  {
   "cell_type": "markdown",
   "id": "b8c63467",
   "metadata": {},
   "source": [
    "#### path to datasets: "
   ]
  },
  {
   "cell_type": "code",
   "execution_count": 16,
   "id": "f5dfd90b",
   "metadata": {},
   "outputs": [],
   "source": [
    "data_MSD_path = 'MillionSongSubset'\n",
    "data_imp_rating_path = 'train_triplets/train_triplets.txt'"
   ]
  },
  {
   "cell_type": "markdown",
   "id": "8b22f757",
   "metadata": {},
   "source": [
    "### 1-First dataset: \n",
    "#### 1.1 Read the MSD dataset from HDF5 directories: \n",
    "- In order to read HDF5 file, HDFStore function of pandas library is used to read each .h5 file and keep in pyspark dataframe\n",
    "- Each file(.h5) contains three keys <b>'/analysis/songs/', '/metadata/songs/', '/musicbrainz/songs/'\n",
    "- Each key allow us to access data and metadata stored in the dataset "
   ]
  },
  {
   "cell_type": "markdown",
   "id": "ad73bd2e",
   "metadata": {},
   "source": [
    "#### Load the data in parallel with the help of spark RDD "
   ]
  },
  {
   "cell_type": "code",
   "execution_count": 17,
   "id": "7a45db08",
   "metadata": {
    "scrolled": true
   },
   "outputs": [
    {
     "name": "stdout",
     "output_type": "stream",
     "text": [
      "                                                                   0\n",
      "analysis_sample_rate                                           22050\n",
      "audio_md5                           a222795e07cd65b7a530f1346f520649\n",
      "danceability                                                     0.0\n",
      "duration                                                   218.93179\n",
      "end_of_fade_in                                                 0.247\n",
      "energy                                                           0.0\n",
      "idx_bars_confidence                                                0\n",
      "idx_bars_start                                                     0\n",
      "idx_beats_confidence                                               0\n",
      "idx_beats_start                                                    0\n",
      "idx_sections_confidence                                            0\n",
      "idx_sections_start                                                 0\n",
      "idx_segments_confidence                                            0\n",
      "idx_segments_loudness_max                                          0\n",
      "idx_segments_loudness_max_time                                     0\n",
      "idx_segments_loudness_start                                        0\n",
      "idx_segments_pitches                                               0\n",
      "idx_segments_start                                                 0\n",
      "idx_segments_timbre                                                0\n",
      "idx_tatums_confidence                                              0\n",
      "idx_tatums_start                                                   0\n",
      "key                                                                1\n",
      "key_confidence                                                 0.736\n",
      "loudness                                                     -11.197\n",
      "mode                                                               0\n",
      "mode_confidence                                                0.636\n",
      "start_of_fade_out                                            218.932\n",
      "tempo                                                         92.198\n",
      "time_signature                                                     4\n",
      "time_signature_confidence                                      0.778\n",
      "track_id                                          TRAAAAW128F429D538\n",
      "analyzer_version                                                    \n",
      "artist_7digitalid                                             165270\n",
      "artist_familiarity                                          0.581794\n",
      "artist_hotttnesss                                           0.401998\n",
      "artist_id                                         ARD7TVE1187B99BFB1\n",
      "artist_latitude                                                  NaN\n",
      "artist_location                                      California - LA\n",
      "artist_longitude                                                 NaN\n",
      "artist_mbid                     e77e51a5-4761-45b3-9847-2051f811e366\n",
      "artist_name                                                   Casual\n",
      "artist_playmeid                                                 4479\n",
      "genre                                                               \n",
      "idx_artist_terms                                                   0\n",
      "idx_similar_artists                                                0\n",
      "release                                                  Fear Itself\n",
      "release_7digitalid                                            300848\n",
      "song_hotttnesss                                              0.60212\n",
      "song_id                                           SOMZWCG12A8C13C480\n",
      "title                                               I Didn't Mean To\n",
      "track_7digitalid                                             3401791\n",
      "idx_artist_mbtags                                                  0\n",
      "year                                                               0\n"
     ]
    }
   ],
   "source": [
    "# load a sample of data to see the columns\n",
    "hdf = pd.HDFStore(data_MSD_path+'/A/A/A/TRAAAAW128F429D538.h5',mode ='r', header = False)\n",
    "df1 = hdf.get('/analysis/songs/')\n",
    "df2 = hdf.get('/metadata/songs/')\n",
    "df3 = hdf.get('/musicbrainz/songs/')\n",
    "hdf.close()\n",
    "sample_data_MSD = pd.concat([df1,df2,df3], axis = 1)\n",
    "print(sample_data_MSD.T)"
   ]
  },
  {
   "cell_type": "markdown",
   "id": "2ee41d05",
   "metadata": {},
   "source": [
    "#### 1.2 Extracting desirable features: \n",
    "Following columns are chosen to be used in this project. "
   ]
  },
  {
   "cell_type": "code",
   "execution_count": 18,
   "id": "1be84b2b",
   "metadata": {},
   "outputs": [],
   "source": [
    "attribs=['song_id',\n",
    "        'title', \n",
    "        'artist_id', \n",
    "        'duration',\n",
    "        'key', \n",
    "        'loudness',\n",
    "        'mode',\n",
    "        'tempo',\n",
    "        'time_signature',\n",
    "        'song_hotttnesss', \n",
    "        'artist_hotttnesss', \n",
    "        'artist_familiarity', \n",
    "        'year'\n",
    "       ] "
   ]
  },
  {
   "cell_type": "code",
   "execution_count": 19,
   "id": "a0daca8a",
   "metadata": {},
   "outputs": [],
   "source": [
    "\n",
    "# This function is used in RDD to read each .h5 file and return a list of string(data of columns)\n",
    "# f: directory path from spark.wholeTextFiles() function\n",
    "# d: dataset directory path\n",
    "def read_h5(f,d):\n",
    "    # prune the file path is essential here, because the wholeTextFile function returns the absolute path\n",
    "    hdf = pd.HDFStore(f[f.index(d):],mode ='r', header = False)  # Openning HDFStore to read .h5 file\n",
    "    \n",
    "    # The dataset is HDFS file with 3 main key {analysis, metadata, musicbrains} which 'songs' key allow us \n",
    "    # to access the data of each song(It should be mentioned that there are)  \n",
    "    df1 = hdf.get('/analysis/songs/')\n",
    "    df2 = hdf.get('/metadata/songs/')\n",
    "    df3 = hdf.get('/musicbrainz/songs/')\n",
    "    \n",
    "    hdf.close()                                                  # Closing HDFStore  \n",
    "    \n",
    "    # concatenate all columns together in a dataframe and pick our desired features\n",
    "    df_concat = pd.concat([df1,df2,df3], axis = 1)[attribs] \n",
    "    \n",
    "    # return the result as a list of string to be able to store in rdd\n",
    "    return df_concat.values.tolist()[0]\n"
   ]
  },
  {
   "cell_type": "code",
   "execution_count": 20,
   "id": "a3d94011",
   "metadata": {},
   "outputs": [],
   "source": [
    "# find all path of all files without loading the files\n",
    "rdd = sc.wholeTextFiles(data_MSD_path+'/*/*/*/*.h5').map(lambda x: read_h5(x[0],data_MSD_path))"
   ]
  },
  {
   "cell_type": "code",
   "execution_count": 21,
   "id": "19bfd716",
   "metadata": {},
   "outputs": [
    {
     "data": {
      "text/plain": [
       "['SOMZWCG12A8C13C480',\n",
       " \"I Didn't Mean To\",\n",
       " 'ARD7TVE1187B99BFB1',\n",
       " 218.93179,\n",
       " 1,\n",
       " -11.197,\n",
       " 0,\n",
       " 92.198,\n",
       " 4,\n",
       " 0.6021199899057548,\n",
       " 0.4019975433642836,\n",
       " 0.5817937658450281,\n",
       " 0]"
      ]
     },
     "execution_count": 21,
     "metadata": {},
     "output_type": "execute_result"
    }
   ],
   "source": [
    "rdd.first()"
   ]
  },
  {
   "cell_type": "markdown",
   "id": "a585a7e7",
   "metadata": {},
   "source": [
    "- As you see the first imported data to rdd is the same as the above sample (irrelevant columns are eliminated here)"
   ]
  },
  {
   "cell_type": "markdown",
   "id": "eabcedb6",
   "metadata": {},
   "source": [
    "Createing Spark dataframe from the RDD: "
   ]
  },
  {
   "cell_type": "code",
   "execution_count": 22,
   "id": "3d16096c",
   "metadata": {},
   "outputs": [],
   "source": [
    "# creating the schema for spark dataframe \n",
    "schema = StructType([\n",
    "    StructField('song_id', StringType(), True),\n",
    "    StructField('title', StringType(), True),\n",
    "    StructField('artist_id', StringType(), True),\n",
    "    StructField('duration', FloatType(), True),\n",
    "    StructField('key', IntegerType(), True),\n",
    "    StructField('loudness', FloatType(), True),\n",
    "    StructField('mode', IntegerType(), True),\n",
    "    StructField('tempo', FloatType(), True),\n",
    "    StructField('time_signature', IntegerType(), True),\n",
    "    StructField('song_hotttnesss', FloatType(), True),\n",
    "    StructField('artist_hotttnesss', FloatType(), True),\n",
    "    StructField('artist_familiarity', FloatType(), True), \n",
    "    StructField('year', IntegerType(), True)\n",
    "])\n"
   ]
  },
  {
   "cell_type": "code",
   "execution_count": 23,
   "id": "fd17c753",
   "metadata": {},
   "outputs": [],
   "source": [
    "data_MSD = spark.createDataFrame(rdd, schema)"
   ]
  },
  {
   "cell_type": "code",
   "execution_count": 15,
   "id": "06906578",
   "metadata": {},
   "outputs": [
    {
     "data": {
      "text/html": [
       "<div>\n",
       "<style scoped>\n",
       "    .dataframe tbody tr th:only-of-type {\n",
       "        vertical-align: middle;\n",
       "    }\n",
       "\n",
       "    .dataframe tbody tr th {\n",
       "        vertical-align: top;\n",
       "    }\n",
       "\n",
       "    .dataframe thead th {\n",
       "        text-align: right;\n",
       "    }\n",
       "</style>\n",
       "<table border=\"1\" class=\"dataframe\">\n",
       "  <thead>\n",
       "    <tr style=\"text-align: right;\">\n",
       "      <th></th>\n",
       "      <th>count</th>\n",
       "      <th>mean</th>\n",
       "      <th>std</th>\n",
       "      <th>min</th>\n",
       "      <th>25%</th>\n",
       "      <th>50%</th>\n",
       "      <th>75%</th>\n",
       "      <th>max</th>\n",
       "    </tr>\n",
       "  </thead>\n",
       "  <tbody>\n",
       "    <tr>\n",
       "      <th>duration</th>\n",
       "      <td>10000.0</td>\n",
       "      <td>238.507278</td>\n",
       "      <td>114.137314</td>\n",
       "      <td>1.044440</td>\n",
       "      <td>176.032196</td>\n",
       "      <td>223.059143</td>\n",
       "      <td>276.375061</td>\n",
       "      <td>1819.767700</td>\n",
       "    </tr>\n",
       "    <tr>\n",
       "      <th>key</th>\n",
       "      <td>10000.0</td>\n",
       "      <td>5.276100</td>\n",
       "      <td>3.554087</td>\n",
       "      <td>0.000000</td>\n",
       "      <td>2.000000</td>\n",
       "      <td>5.000000</td>\n",
       "      <td>8.000000</td>\n",
       "      <td>11.000000</td>\n",
       "    </tr>\n",
       "    <tr>\n",
       "      <th>loudness</th>\n",
       "      <td>10000.0</td>\n",
       "      <td>-10.485654</td>\n",
       "      <td>5.399786</td>\n",
       "      <td>-51.643002</td>\n",
       "      <td>-13.163250</td>\n",
       "      <td>-9.380000</td>\n",
       "      <td>-6.532500</td>\n",
       "      <td>0.566000</td>\n",
       "    </tr>\n",
       "    <tr>\n",
       "      <th>mode</th>\n",
       "      <td>10000.0</td>\n",
       "      <td>0.691100</td>\n",
       "      <td>0.462063</td>\n",
       "      <td>0.000000</td>\n",
       "      <td>0.000000</td>\n",
       "      <td>1.000000</td>\n",
       "      <td>1.000000</td>\n",
       "      <td>1.000000</td>\n",
       "    </tr>\n",
       "    <tr>\n",
       "      <th>tempo</th>\n",
       "      <td>10000.0</td>\n",
       "      <td>122.915512</td>\n",
       "      <td>35.184418</td>\n",
       "      <td>0.000000</td>\n",
       "      <td>96.965752</td>\n",
       "      <td>120.161003</td>\n",
       "      <td>144.013245</td>\n",
       "      <td>262.828003</td>\n",
       "    </tr>\n",
       "    <tr>\n",
       "      <th>time_signature</th>\n",
       "      <td>10000.0</td>\n",
       "      <td>3.564800</td>\n",
       "      <td>1.266239</td>\n",
       "      <td>0.000000</td>\n",
       "      <td>3.000000</td>\n",
       "      <td>4.000000</td>\n",
       "      <td>4.000000</td>\n",
       "      <td>7.000000</td>\n",
       "    </tr>\n",
       "    <tr>\n",
       "      <th>song_hotttnesss</th>\n",
       "      <td>5648.0</td>\n",
       "      <td>0.342822</td>\n",
       "      <td>0.247218</td>\n",
       "      <td>0.000000</td>\n",
       "      <td>0.000000</td>\n",
       "      <td>0.360371</td>\n",
       "      <td>0.537504</td>\n",
       "      <td>1.000000</td>\n",
       "    </tr>\n",
       "    <tr>\n",
       "      <th>artist_hotttnesss</th>\n",
       "      <td>10000.0</td>\n",
       "      <td>0.385552</td>\n",
       "      <td>0.143647</td>\n",
       "      <td>0.000000</td>\n",
       "      <td>0.325266</td>\n",
       "      <td>0.380742</td>\n",
       "      <td>0.453858</td>\n",
       "      <td>1.082503</td>\n",
       "    </tr>\n",
       "    <tr>\n",
       "      <th>artist_familiarity</th>\n",
       "      <td>9996.0</td>\n",
       "      <td>0.565457</td>\n",
       "      <td>0.160161</td>\n",
       "      <td>0.000000</td>\n",
       "      <td>0.467611</td>\n",
       "      <td>0.563666</td>\n",
       "      <td>0.668020</td>\n",
       "      <td>1.000000</td>\n",
       "    </tr>\n",
       "    <tr>\n",
       "      <th>year</th>\n",
       "      <td>10000.0</td>\n",
       "      <td>934.704600</td>\n",
       "      <td>996.650657</td>\n",
       "      <td>0.000000</td>\n",
       "      <td>0.000000</td>\n",
       "      <td>0.000000</td>\n",
       "      <td>2000.000000</td>\n",
       "      <td>2010.000000</td>\n",
       "    </tr>\n",
       "  </tbody>\n",
       "</table>\n",
       "</div>"
      ],
      "text/plain": [
       "                      count        mean         std        min         25%  \\\n",
       "duration            10000.0  238.507278  114.137314   1.044440  176.032196   \n",
       "key                 10000.0    5.276100    3.554087   0.000000    2.000000   \n",
       "loudness            10000.0  -10.485654    5.399786 -51.643002  -13.163250   \n",
       "mode                10000.0    0.691100    0.462063   0.000000    0.000000   \n",
       "tempo               10000.0  122.915512   35.184418   0.000000   96.965752   \n",
       "time_signature      10000.0    3.564800    1.266239   0.000000    3.000000   \n",
       "song_hotttnesss      5648.0    0.342822    0.247218   0.000000    0.000000   \n",
       "artist_hotttnesss   10000.0    0.385552    0.143647   0.000000    0.325266   \n",
       "artist_familiarity   9996.0    0.565457    0.160161   0.000000    0.467611   \n",
       "year                10000.0  934.704600  996.650657   0.000000    0.000000   \n",
       "\n",
       "                           50%          75%          max  \n",
       "duration            223.059143   276.375061  1819.767700  \n",
       "key                   5.000000     8.000000    11.000000  \n",
       "loudness             -9.380000    -6.532500     0.566000  \n",
       "mode                  1.000000     1.000000     1.000000  \n",
       "tempo               120.161003   144.013245   262.828003  \n",
       "time_signature        4.000000     4.000000     7.000000  \n",
       "song_hotttnesss       0.360371     0.537504     1.000000  \n",
       "artist_hotttnesss     0.380742     0.453858     1.082503  \n",
       "artist_familiarity    0.563666     0.668020     1.000000  \n",
       "year                  0.000000  2000.000000  2010.000000  "
      ]
     },
     "execution_count": 15,
     "metadata": {},
     "output_type": "execute_result"
    }
   ],
   "source": [
    "# here the data is loaded to the memory \n",
    "data_MSD.toPandas().describe().T"
   ]
  },
  {
   "cell_type": "markdown",
   "id": "2e21b3c6",
   "metadata": {},
   "source": [
    "### 1.3 Data Preprocessing: \n",
    "##### 1.3.1 Dealing with null values"
   ]
  },
  {
   "cell_type": "markdown",
   "id": "ad0c1f69",
   "metadata": {},
   "source": [
    "- Checking Null, empty, None, Nan values for each column: "
   ]
  },
  {
   "cell_type": "code",
   "execution_count": 24,
   "id": "50114487",
   "metadata": {},
   "outputs": [],
   "source": [
    "# Loop through all columns for each row and count: empty, None, Null, Nan \n",
    "ps_df = data_MSD.select([count(when(col(c).contains('None') | col(c).contains('NULL') | (col(c) == '' ) | col(c).isNull() | isnan(c), \n",
    "                                      c )).alias(c) for c in data_MSD.columns])\n"
   ]
  },
  {
   "cell_type": "code",
   "execution_count": 17,
   "id": "d77ad1c0",
   "metadata": {},
   "outputs": [
    {
     "data": {
      "text/html": [
       "<div>\n",
       "<style scoped>\n",
       "    .dataframe tbody tr th:only-of-type {\n",
       "        vertical-align: middle;\n",
       "    }\n",
       "\n",
       "    .dataframe tbody tr th {\n",
       "        vertical-align: top;\n",
       "    }\n",
       "\n",
       "    .dataframe thead th {\n",
       "        text-align: right;\n",
       "    }\n",
       "</style>\n",
       "<table border=\"1\" class=\"dataframe\">\n",
       "  <thead>\n",
       "    <tr style=\"text-align: right;\">\n",
       "      <th></th>\n",
       "      <th>song_id</th>\n",
       "      <th>title</th>\n",
       "      <th>artist_id</th>\n",
       "      <th>duration</th>\n",
       "      <th>key</th>\n",
       "      <th>loudness</th>\n",
       "      <th>mode</th>\n",
       "      <th>tempo</th>\n",
       "      <th>time_signature</th>\n",
       "      <th>song_hotttnesss</th>\n",
       "      <th>artist_hotttnesss</th>\n",
       "      <th>artist_familiarity</th>\n",
       "      <th>year</th>\n",
       "    </tr>\n",
       "  </thead>\n",
       "  <tbody>\n",
       "    <tr>\n",
       "      <th>0</th>\n",
       "      <td>0</td>\n",
       "      <td>2</td>\n",
       "      <td>0</td>\n",
       "      <td>0</td>\n",
       "      <td>0</td>\n",
       "      <td>0</td>\n",
       "      <td>0</td>\n",
       "      <td>0</td>\n",
       "      <td>0</td>\n",
       "      <td>4352</td>\n",
       "      <td>0</td>\n",
       "      <td>4</td>\n",
       "      <td>0</td>\n",
       "    </tr>\n",
       "  </tbody>\n",
       "</table>\n",
       "</div>"
      ],
      "text/plain": [
       "   song_id  title  artist_id  duration  key  loudness  mode  tempo  \\\n",
       "0        0      2          0         0    0         0     0      0   \n",
       "\n",
       "   time_signature  song_hotttnesss  artist_hotttnesss  artist_familiarity  \\\n",
       "0               0             4352                  0                   4   \n",
       "\n",
       "   year  \n",
       "0     0  "
      ]
     },
     "execution_count": 17,
     "metadata": {},
     "output_type": "execute_result"
    }
   ],
   "source": [
    "ps_df.toPandas()"
   ]
  },
  {
   "cell_type": "markdown",
   "id": "be088684",
   "metadata": {},
   "source": [
    "Based on the result, song_hotttnesss feature has huge amount of null values. Thus we decide to not use this feature and remove the column. \n",
    "Title feature has only 2 missing values, since we are not going to work with this feature it is left untouch. \n",
    "For the artist_familiarity feature we just remove 4 missing values. \n",
    "Year feature: By looking at the describtion of the dataset, min value is 0, which is not valid. Thus, we need to investigate more and count the zero values. "
   ]
  },
  {
   "cell_type": "code",
   "execution_count": 18,
   "id": "3ad415b4-2248-4981-82d7-6e391032edde",
   "metadata": {},
   "outputs": [
    {
     "data": {
      "text/plain": [
       "5320"
      ]
     },
     "execution_count": 18,
     "metadata": {},
     "output_type": "execute_result"
    }
   ],
   "source": [
    "data_MSD.filter(data_MSD['year'] == '0').count()"
   ]
  },
  {
   "cell_type": "markdown",
   "id": "c7faf527",
   "metadata": {},
   "source": [
    "- Since the number of 0 values in year are too much and it is better to remove this feature: "
   ]
  },
  {
   "cell_type": "code",
   "execution_count": 25,
   "id": "58ea430d",
   "metadata": {},
   "outputs": [],
   "source": [
    "data_MSD = data_MSD.drop(\"year\")"
   ]
  },
  {
   "cell_type": "markdown",
   "id": "d66b9de7",
   "metadata": {},
   "source": [
    "- The same for song_hotttnesss"
   ]
  },
  {
   "cell_type": "code",
   "execution_count": 26,
   "id": "3e1a9771",
   "metadata": {},
   "outputs": [],
   "source": [
    "data_MSD = data_MSD.drop(\"song_hotttnesss\")"
   ]
  },
  {
   "cell_type": "markdown",
   "id": "41cc6c3a-21e2-4d88-893b-7df1732fe05f",
   "metadata": {},
   "source": [
    "- Remove null values of artist_familiarity:"
   ]
  },
  {
   "cell_type": "code",
   "execution_count": 27,
   "id": "91df395c-ab26-4f0c-b3de-d82e8c1ef5a5",
   "metadata": {},
   "outputs": [],
   "source": [
    "data_MSD = data_MSD.dropna(subset=['artist_familiarity'],how='all')"
   ]
  },
  {
   "cell_type": "markdown",
   "id": "8ef9f571",
   "metadata": {},
   "source": [
    "Making sure the changes being applied: "
   ]
  },
  {
   "cell_type": "code",
   "execution_count": 28,
   "id": "4cea3add",
   "metadata": {},
   "outputs": [],
   "source": [
    "ps_df = data_MSD.select([count(when(col(c).contains('None') | col(c).contains('NULL') | (col(c) == '' ) | col(c).isNull() | isnan(c), \n",
    "                                      c )).alias(c) for c in data_MSD.columns])"
   ]
  },
  {
   "cell_type": "code",
   "execution_count": 23,
   "id": "5638f5ee",
   "metadata": {},
   "outputs": [
    {
     "data": {
      "text/html": [
       "<div>\n",
       "<style scoped>\n",
       "    .dataframe tbody tr th:only-of-type {\n",
       "        vertical-align: middle;\n",
       "    }\n",
       "\n",
       "    .dataframe tbody tr th {\n",
       "        vertical-align: top;\n",
       "    }\n",
       "\n",
       "    .dataframe thead th {\n",
       "        text-align: right;\n",
       "    }\n",
       "</style>\n",
       "<table border=\"1\" class=\"dataframe\">\n",
       "  <thead>\n",
       "    <tr style=\"text-align: right;\">\n",
       "      <th></th>\n",
       "      <th>song_id</th>\n",
       "      <th>title</th>\n",
       "      <th>artist_id</th>\n",
       "      <th>duration</th>\n",
       "      <th>key</th>\n",
       "      <th>loudness</th>\n",
       "      <th>mode</th>\n",
       "      <th>tempo</th>\n",
       "      <th>time_signature</th>\n",
       "      <th>artist_hotttnesss</th>\n",
       "      <th>artist_familiarity</th>\n",
       "    </tr>\n",
       "  </thead>\n",
       "  <tbody>\n",
       "    <tr>\n",
       "      <th>0</th>\n",
       "      <td>0</td>\n",
       "      <td>2</td>\n",
       "      <td>0</td>\n",
       "      <td>0</td>\n",
       "      <td>0</td>\n",
       "      <td>0</td>\n",
       "      <td>0</td>\n",
       "      <td>0</td>\n",
       "      <td>0</td>\n",
       "      <td>0</td>\n",
       "      <td>0</td>\n",
       "    </tr>\n",
       "  </tbody>\n",
       "</table>\n",
       "</div>"
      ],
      "text/plain": [
       "   song_id  title  artist_id  duration  key  loudness  mode  tempo  \\\n",
       "0        0      2          0         0    0         0     0      0   \n",
       "\n",
       "   time_signature  artist_hotttnesss  artist_familiarity  \n",
       "0               0                  0                   0  "
      ]
     },
     "execution_count": 23,
     "metadata": {},
     "output_type": "execute_result"
    }
   ],
   "source": [
    "ps_df.toPandas()"
   ]
  },
  {
   "cell_type": "markdown",
   "id": "3c37a587",
   "metadata": {},
   "source": [
    "#### 1.3.2 Observing all features: "
   ]
  },
  {
   "cell_type": "code",
   "execution_count": 29,
   "id": "edd9fcbb",
   "metadata": {},
   "outputs": [
    {
     "data": {
      "text/plain": [
       "DataFrame[song_id: string, title: string, artist_id: string, duration: float, key: int, loudness: float, mode: int, tempo: float, time_signature: int, artist_hotttnesss: float, artist_familiarity: float]"
      ]
     },
     "execution_count": 29,
     "metadata": {},
     "output_type": "execute_result"
    }
   ],
   "source": [
    "data_MSD.persist()"
   ]
  },
  {
   "cell_type": "code",
   "execution_count": 25,
   "id": "15510525-8498-4bc1-8384-abe4730b4601",
   "metadata": {},
   "outputs": [
    {
     "name": "stderr",
     "output_type": "stream",
     "text": [
      "C:\\Users\\shbpa\\AppData\\Local\\Temp/ipykernel_2712/2174606417.py:3: UserWarning: To output multiple subplots, the figure containing the passed axes is being cleared\n",
      "  data_MSD.toPandas().hist(ax = ax)\n"
     ]
    },
    {
     "data": {
      "text/plain": [
       "array([[<AxesSubplot:title={'center':'duration'}>,\n",
       "        <AxesSubplot:title={'center':'key'}>,\n",
       "        <AxesSubplot:title={'center':'loudness'}>],\n",
       "       [<AxesSubplot:title={'center':'mode'}>,\n",
       "        <AxesSubplot:title={'center':'tempo'}>,\n",
       "        <AxesSubplot:title={'center':'time_signature'}>],\n",
       "       [<AxesSubplot:title={'center':'artist_hotttnesss'}>,\n",
       "        <AxesSubplot:title={'center':'artist_familiarity'}>,\n",
       "        <AxesSubplot:>]], dtype=object)"
      ]
     },
     "execution_count": 25,
     "metadata": {},
     "output_type": "execute_result"
    },
    {
     "data": {
      "image/png": "[encoded data removed]",
      "text/plain": [
       "<Figure size 1080x1440 with 9 Axes>"
      ]
     },
     "metadata": {
      "needs_background": "light"
     },
     "output_type": "display_data"
    }
   ],
   "source": [
    "fig = plt.figure(figsize = (15,20))\n",
    "ax = fig.gca()\n",
    "data_MSD.toPandas().hist(ax = ax)"
   ]
  },
  {
   "cell_type": "markdown",
   "id": "333508a1",
   "metadata": {},
   "source": [
    "#### Now we can decide whether to apply normalization, standardization or both to the data.  \n",
    "standardization: Dealing with outliers by using IQR method\n",
    "\n",
    "normalization: Scale data between 0-1\n",
    "- <b>duration</b>: Obviously we need both here because data is more concentrated between 0 and 500 and we have some outliers above 500 which can be addressed by standardization. \n",
    "    To scale the data between 0-1, normalization can be applied. \n",
    "- <b>key</b>: it is evenly distributed from 0 to 11 and we only apply normalization here to scale it between 0-1\n",
    "- <b>loudness</b>: Same as the duration feature, we have some outliers from -50 to -30 which can be solved by standardization. Normalization will be applied too. \n",
    "- <b>mode</b>: Since this value is either 0 or 1, neither normalization is needed nor standardization \n",
    "- <b>tempo</b>: Since data is symmetrically distributed here we can overlook standardization. However, we apply it on the data to get rid of outliers on its head and tail. \n",
    "- <b>time_signature</b>: Just normalization \n",
    "- <b>artist_hottness</b>: Because data distribution is not sparse, no standardization,but normalization to make sure data is between 0-1\n",
    "- <b>artist_familiarity</b>: the same as artist_hottness\n",
    "    "
   ]
  },
  {
   "cell_type": "markdown",
   "id": "fdb700a0",
   "metadata": {},
   "source": [
    "### 1.3.3 Standardization & Normalization : \n",
    "##### - Standardardizer method: "
   ]
  },
  {
   "cell_type": "code",
   "execution_count": 30,
   "id": "41501286",
   "metadata": {},
   "outputs": [],
   "source": [
    "# standardize a column with IQR method\n",
    "def standardize(df, column : str, lower, upper): \n",
    "    \n",
    "    split_udf = udf(lambda x: float(list(x)[0].item()), DoubleType())\n",
    "    \n",
    "    # create a vector assembler\n",
    "    assembler = VectorAssembler(inputCols=[column], outputCol='temp')\n",
    "    \n",
    "    # assembel the vector to dataframe \n",
    "    df = assembler.transform(df) # add temp column \n",
    "    \n",
    "    scaler = RobustScaler(inputCol = 'temp',outputCol='stndr',withScaling= True, withCentering=False,lower=lower, upper=upper)\n",
    "    \n",
    "    # Compute summary statistics by fitting the RobustScaler\n",
    "    scalerModel = scaler.fit(df) \n",
    "    \n",
    "    # Transform each column to have unit quantile range.    \n",
    "    df = scalerModel.transform(df)\n",
    "    \n",
    "    # drop the created columns and substitute with the old column\n",
    "    df = df.drop(column,'temp')\n",
    "    df = df.withColumn('stndr',split_udf(col('stndr')))\n",
    "    df = df.withColumnRenamed('stndr', column)\n",
    "    return df , scalerModel\n",
    "    "
   ]
  },
  {
   "cell_type": "markdown",
   "id": "25e9bb21",
   "metadata": {},
   "source": [
    "#### - Normalizer method: "
   ]
  },
  {
   "cell_type": "code",
   "execution_count": 31,
   "id": "2d41f785",
   "metadata": {},
   "outputs": [],
   "source": [
    "def normalizer(df , column): \n",
    "    # UDF for converting column type from vector to double type\n",
    "    split_udf = udf(lambda x: float(list(x)[0].item()), DoubleType())\n",
    "\n",
    "    # VectorAssembler Transformation - Converting column to vector type\n",
    "    assembler = VectorAssembler(inputCols=[column],outputCol='temp')\n",
    "    df = assembler.transform(df)\n",
    "    \n",
    "    # MaxMinScaler to scale between 0-1\n",
    "    scaler = MinMaxScaler(inputCol='temp', outputCol='normalized')\n",
    "\n",
    "    scalerModel = scaler.fit(df)\n",
    "    df = scalerModel.transform(df)\n",
    "    \n",
    "    # drop the created columns and substitute with the old column\n",
    "    df = df.drop(column,'temp')\n",
    "    df = df.withColumn('normalized',split_udf(col('normalized')))\n",
    "    df = df.withColumnRenamed('normalized', column)\n",
    "    \n",
    "    return df , scalerModel"
   ]
  },
  {
   "cell_type": "markdown",
   "id": "f7e3c957",
   "metadata": {},
   "source": [
    "##### Standardize following features:\n",
    "\n",
    "'duration', 'key', 'loudness', 'mode', 'tempo', 'time_signature', 'artist_hotttnesss', 'artist_familiarity"
   ]
  },
  {
   "cell_type": "code",
   "execution_count": 32,
   "id": "00e60b4f",
   "metadata": {},
   "outputs": [],
   "source": [
    "scalers_stdr = {'duration': None, \n",
    "          'loudness': None,\n",
    "          'tempo': None}"
   ]
  },
  {
   "cell_type": "code",
   "execution_count": 33,
   "id": "312ff05f",
   "metadata": {},
   "outputs": [
    {
     "name": "stdout",
     "output_type": "stream",
     "text": [
      "Standardizing feature: duration\n",
      "Standardizing feature: loudness\n",
      "Standardizing feature: tempo\n"
     ]
    }
   ],
   "source": [
    "data_MSD_scaled = data_MSD\n",
    "data_MSD_scaled , scalers_stdr['duration'] = standardize(data_MSD_scaled, 'duration', 0.05, 0.75)\n",
    "print('Standardizing feature: '+ 'duration' )\n",
    "\n",
    "data_MSD_scaled , scalers_stdr['loudness'] = standardize(data_MSD_scaled, 'loudness', 0.2, 0.90)\n",
    "print('Standardizing feature: '+ 'loudness' )\n",
    "\n",
    "data_MSD_scaled , scalers_stdr['tempo'] = standardize(data_MSD_scaled, 'tempo', 0.20, 0.85)\n",
    "print('Standardizing feature: '+ 'tempo' )\n"
   ]
  },
  {
   "cell_type": "markdown",
   "id": "04950c8d",
   "metadata": {},
   "source": [
    " #### Changes after Standardization: "
   ]
  },
  {
   "cell_type": "code",
   "execution_count": 30,
   "id": "725b7c7f",
   "metadata": {},
   "outputs": [
    {
     "name": "stderr",
     "output_type": "stream",
     "text": [
      "C:\\Users\\shbpa\\AppData\\Local\\Temp/ipykernel_2712/3078121536.py:3: UserWarning: To output multiple subplots, the figure containing the passed axes is being cleared\n",
      "  data_MSD_scaled.toPandas().hist(ax = ax)\n"
     ]
    },
    {
     "data": {
      "text/plain": [
       "array([[<AxesSubplot:title={'center':'key'}>,\n",
       "        <AxesSubplot:title={'center':'mode'}>,\n",
       "        <AxesSubplot:title={'center':'time_signature'}>],\n",
       "       [<AxesSubplot:title={'center':'artist_hotttnesss'}>,\n",
       "        <AxesSubplot:title={'center':'artist_familiarity'}>,\n",
       "        <AxesSubplot:title={'center':'duration'}>],\n",
       "       [<AxesSubplot:title={'center':'loudness'}>,\n",
       "        <AxesSubplot:title={'center':'tempo'}>, <AxesSubplot:>]],\n",
       "      dtype=object)"
      ]
     },
     "execution_count": 30,
     "metadata": {},
     "output_type": "execute_result"
    },
    {
     "data": {
      "image/png": "[encoded data removed]",
      "text/plain": [
       "<Figure size 1080x1440 with 9 Axes>"
      ]
     },
     "metadata": {
      "needs_background": "light"
     },
     "output_type": "display_data"
    }
   ],
   "source": [
    "fig = plt.figure(figsize = (15,20))\n",
    "ax = fig.gca()\n",
    "data_MSD_scaled.toPandas().hist(ax = ax)"
   ]
  },
  {
   "cell_type": "code",
   "execution_count": 31,
   "id": "ef8155ed",
   "metadata": {},
   "outputs": [
    {
     "data": {
      "text/html": [
       "<div>\n",
       "<style scoped>\n",
       "    .dataframe tbody tr th:only-of-type {\n",
       "        vertical-align: middle;\n",
       "    }\n",
       "\n",
       "    .dataframe tbody tr th {\n",
       "        vertical-align: top;\n",
       "    }\n",
       "\n",
       "    .dataframe thead th {\n",
       "        text-align: right;\n",
       "    }\n",
       "</style>\n",
       "<table border=\"1\" class=\"dataframe\">\n",
       "  <thead>\n",
       "    <tr style=\"text-align: right;\">\n",
       "      <th></th>\n",
       "      <th>count</th>\n",
       "      <th>mean</th>\n",
       "      <th>std</th>\n",
       "      <th>min</th>\n",
       "      <th>5%</th>\n",
       "      <th>10%</th>\n",
       "      <th>20%</th>\n",
       "      <th>50%</th>\n",
       "      <th>70%</th>\n",
       "      <th>80%</th>\n",
       "      <th>90%</th>\n",
       "      <th>95%</th>\n",
       "      <th>max</th>\n",
       "    </tr>\n",
       "  </thead>\n",
       "  <tbody>\n",
       "    <tr>\n",
       "      <th>key</th>\n",
       "      <td>9996.0</td>\n",
       "      <td>5.276611</td>\n",
       "      <td>3.554199</td>\n",
       "      <td>0.000000</td>\n",
       "      <td>0.000000</td>\n",
       "      <td>0.000000</td>\n",
       "      <td>1.000000</td>\n",
       "      <td>5.000000</td>\n",
       "      <td>8.000000</td>\n",
       "      <td>9.000000</td>\n",
       "      <td>10.000000</td>\n",
       "      <td>11.000000</td>\n",
       "      <td>11.000000</td>\n",
       "    </tr>\n",
       "    <tr>\n",
       "      <th>mode</th>\n",
       "      <td>9996.0</td>\n",
       "      <td>0.690976</td>\n",
       "      <td>0.462114</td>\n",
       "      <td>0.000000</td>\n",
       "      <td>0.000000</td>\n",
       "      <td>0.000000</td>\n",
       "      <td>0.000000</td>\n",
       "      <td>1.000000</td>\n",
       "      <td>1.000000</td>\n",
       "      <td>1.000000</td>\n",
       "      <td>1.000000</td>\n",
       "      <td>1.000000</td>\n",
       "      <td>1.000000</td>\n",
       "    </tr>\n",
       "    <tr>\n",
       "      <th>time_signature</th>\n",
       "      <td>9996.0</td>\n",
       "      <td>3.564626</td>\n",
       "      <td>1.266462</td>\n",
       "      <td>0.000000</td>\n",
       "      <td>1.000000</td>\n",
       "      <td>1.000000</td>\n",
       "      <td>3.000000</td>\n",
       "      <td>4.000000</td>\n",
       "      <td>4.000000</td>\n",
       "      <td>4.000000</td>\n",
       "      <td>4.000000</td>\n",
       "      <td>5.000000</td>\n",
       "      <td>7.000000</td>\n",
       "    </tr>\n",
       "    <tr>\n",
       "      <th>artist_hotttnesss</th>\n",
       "      <td>9996.0</td>\n",
       "      <td>0.385707</td>\n",
       "      <td>0.143469</td>\n",
       "      <td>0.000000</td>\n",
       "      <td>0.049034</td>\n",
       "      <td>0.257063</td>\n",
       "      <td>0.311438</td>\n",
       "      <td>0.380756</td>\n",
       "      <td>0.434411</td>\n",
       "      <td>0.476761</td>\n",
       "      <td>0.547755</td>\n",
       "      <td>0.601186</td>\n",
       "      <td>1.082503</td>\n",
       "    </tr>\n",
       "    <tr>\n",
       "      <th>artist_familiarity</th>\n",
       "      <td>9996.0</td>\n",
       "      <td>0.565457</td>\n",
       "      <td>0.160161</td>\n",
       "      <td>0.000000</td>\n",
       "      <td>0.321843</td>\n",
       "      <td>0.379428</td>\n",
       "      <td>0.441050</td>\n",
       "      <td>0.563666</td>\n",
       "      <td>0.637508</td>\n",
       "      <td>0.697113</td>\n",
       "      <td>0.784970</td>\n",
       "      <td>0.839275</td>\n",
       "      <td>1.000000</td>\n",
       "    </tr>\n",
       "    <tr>\n",
       "      <th>duration</th>\n",
       "      <td>9996.0</td>\n",
       "      <td>1.400214</td>\n",
       "      <td>0.670158</td>\n",
       "      <td>0.006131</td>\n",
       "      <td>0.620109</td>\n",
       "      <td>0.794124</td>\n",
       "      <td>0.971321</td>\n",
       "      <td>1.309459</td>\n",
       "      <td>1.543472</td>\n",
       "      <td>1.711698</td>\n",
       "      <td>2.056737</td>\n",
       "      <td>2.475576</td>\n",
       "      <td>10.682868</td>\n",
       "    </tr>\n",
       "    <tr>\n",
       "      <th>loudness</th>\n",
       "      <td>9996.0</td>\n",
       "      <td>-1.123764</td>\n",
       "      <td>0.578521</td>\n",
       "      <td>-5.533377</td>\n",
       "      <td>-2.242768</td>\n",
       "      <td>-1.866977</td>\n",
       "      <td>-1.527162</td>\n",
       "      <td>-1.005250</td>\n",
       "      <td>-0.756134</td>\n",
       "      <td>-0.645023</td>\n",
       "      <td>-0.524697</td>\n",
       "      <td>-0.431399</td>\n",
       "      <td>0.060645</td>\n",
       "    </tr>\n",
       "    <tr>\n",
       "      <th>tempo</th>\n",
       "      <td>9996.0</td>\n",
       "      <td>1.830333</td>\n",
       "      <td>0.523933</td>\n",
       "      <td>0.000000</td>\n",
       "      <td>1.103977</td>\n",
       "      <td>1.263097</td>\n",
       "      <td>1.383190</td>\n",
       "      <td>1.789388</td>\n",
       "      <td>2.055493</td>\n",
       "      <td>2.252695</td>\n",
       "      <td>2.529902</td>\n",
       "      <td>2.777229</td>\n",
       "      <td>3.913926</td>\n",
       "    </tr>\n",
       "  </tbody>\n",
       "</table>\n",
       "</div>"
      ],
      "text/plain": [
       "                     count      mean       std       min        5%       10%  \\\n",
       "key                 9996.0  5.276611  3.554199  0.000000  0.000000  0.000000   \n",
       "mode                9996.0  0.690976  0.462114  0.000000  0.000000  0.000000   \n",
       "time_signature      9996.0  3.564626  1.266462  0.000000  1.000000  1.000000   \n",
       "artist_hotttnesss   9996.0  0.385707  0.143469  0.000000  0.049034  0.257063   \n",
       "artist_familiarity  9996.0  0.565457  0.160161  0.000000  0.321843  0.379428   \n",
       "duration            9996.0  1.400214  0.670158  0.006131  0.620109  0.794124   \n",
       "loudness            9996.0 -1.123764  0.578521 -5.533377 -2.242768 -1.866977   \n",
       "tempo               9996.0  1.830333  0.523933  0.000000  1.103977  1.263097   \n",
       "\n",
       "                         20%       50%       70%       80%        90%  \\\n",
       "key                 1.000000  5.000000  8.000000  9.000000  10.000000   \n",
       "mode                0.000000  1.000000  1.000000  1.000000   1.000000   \n",
       "time_signature      3.000000  4.000000  4.000000  4.000000   4.000000   \n",
       "artist_hotttnesss   0.311438  0.380756  0.434411  0.476761   0.547755   \n",
       "artist_familiarity  0.441050  0.563666  0.637508  0.697113   0.784970   \n",
       "duration            0.971321  1.309459  1.543472  1.711698   2.056737   \n",
       "loudness           -1.527162 -1.005250 -0.756134 -0.645023  -0.524697   \n",
       "tempo               1.383190  1.789388  2.055493  2.252695   2.529902   \n",
       "\n",
       "                          95%        max  \n",
       "key                 11.000000  11.000000  \n",
       "mode                 1.000000   1.000000  \n",
       "time_signature       5.000000   7.000000  \n",
       "artist_hotttnesss    0.601186   1.082503  \n",
       "artist_familiarity   0.839275   1.000000  \n",
       "duration             2.475576  10.682868  \n",
       "loudness            -0.431399   0.060645  \n",
       "tempo                2.777229   3.913926  "
      ]
     },
     "execution_count": 31,
     "metadata": {},
     "output_type": "execute_result"
    }
   ],
   "source": [
    "data_MSD_scaled.toPandas().describe(percentiles=[0.05,.1, .2, .5, .7, .8, .9,.95]).T"
   ]
  },
  {
   "cell_type": "code",
   "execution_count": 32,
   "id": "6b624052",
   "metadata": {},
   "outputs": [
    {
     "data": {
      "text/html": [
       "<div>\n",
       "<style scoped>\n",
       "    .dataframe tbody tr th:only-of-type {\n",
       "        vertical-align: middle;\n",
       "    }\n",
       "\n",
       "    .dataframe tbody tr th {\n",
       "        vertical-align: top;\n",
       "    }\n",
       "\n",
       "    .dataframe thead th {\n",
       "        text-align: right;\n",
       "    }\n",
       "</style>\n",
       "<table border=\"1\" class=\"dataframe\">\n",
       "  <thead>\n",
       "    <tr style=\"text-align: right;\">\n",
       "      <th></th>\n",
       "      <th>count</th>\n",
       "      <th>mean</th>\n",
       "      <th>std</th>\n",
       "      <th>min</th>\n",
       "      <th>5%</th>\n",
       "      <th>10%</th>\n",
       "      <th>20%</th>\n",
       "      <th>50%</th>\n",
       "      <th>70%</th>\n",
       "      <th>80%</th>\n",
       "      <th>90%</th>\n",
       "      <th>95%</th>\n",
       "      <th>max</th>\n",
       "    </tr>\n",
       "  </thead>\n",
       "  <tbody>\n",
       "    <tr>\n",
       "      <th>duration</th>\n",
       "      <td>9996.0</td>\n",
       "      <td>238.518509</td>\n",
       "      <td>114.157639</td>\n",
       "      <td>1.044440</td>\n",
       "      <td>105.632202</td>\n",
       "      <td>135.274643</td>\n",
       "      <td>165.459137</td>\n",
       "      <td>223.059143</td>\n",
       "      <td>262.921997</td>\n",
       "      <td>291.578308</td>\n",
       "      <td>350.353821</td>\n",
       "      <td>421.700775</td>\n",
       "      <td>1819.767700</td>\n",
       "    </tr>\n",
       "    <tr>\n",
       "      <th>key</th>\n",
       "      <td>9996.0</td>\n",
       "      <td>5.276611</td>\n",
       "      <td>3.554199</td>\n",
       "      <td>0.000000</td>\n",
       "      <td>0.000000</td>\n",
       "      <td>0.000000</td>\n",
       "      <td>1.000000</td>\n",
       "      <td>5.000000</td>\n",
       "      <td>8.000000</td>\n",
       "      <td>9.000000</td>\n",
       "      <td>10.000000</td>\n",
       "      <td>11.000000</td>\n",
       "      <td>11.000000</td>\n",
       "    </tr>\n",
       "    <tr>\n",
       "      <th>loudness</th>\n",
       "      <td>9996.0</td>\n",
       "      <td>-10.488078</td>\n",
       "      <td>5.399334</td>\n",
       "      <td>-51.643002</td>\n",
       "      <td>-20.931750</td>\n",
       "      <td>-17.424500</td>\n",
       "      <td>-14.253000</td>\n",
       "      <td>-9.382000</td>\n",
       "      <td>-7.057000</td>\n",
       "      <td>-6.020000</td>\n",
       "      <td>-4.897000</td>\n",
       "      <td>-4.026250</td>\n",
       "      <td>0.566000</td>\n",
       "    </tr>\n",
       "    <tr>\n",
       "      <th>mode</th>\n",
       "      <td>9996.0</td>\n",
       "      <td>0.690976</td>\n",
       "      <td>0.462114</td>\n",
       "      <td>0.000000</td>\n",
       "      <td>0.000000</td>\n",
       "      <td>0.000000</td>\n",
       "      <td>0.000000</td>\n",
       "      <td>1.000000</td>\n",
       "      <td>1.000000</td>\n",
       "      <td>1.000000</td>\n",
       "      <td>1.000000</td>\n",
       "      <td>1.000000</td>\n",
       "      <td>1.000000</td>\n",
       "    </tr>\n",
       "    <tr>\n",
       "      <th>tempo</th>\n",
       "      <td>9996.0</td>\n",
       "      <td>122.910576</td>\n",
       "      <td>35.183144</td>\n",
       "      <td>0.000000</td>\n",
       "      <td>74.134251</td>\n",
       "      <td>84.819500</td>\n",
       "      <td>92.884003</td>\n",
       "      <td>120.161003</td>\n",
       "      <td>138.030502</td>\n",
       "      <td>151.272995</td>\n",
       "      <td>169.888000</td>\n",
       "      <td>186.496498</td>\n",
       "      <td>262.828003</td>\n",
       "    </tr>\n",
       "    <tr>\n",
       "      <th>time_signature</th>\n",
       "      <td>9996.0</td>\n",
       "      <td>3.564626</td>\n",
       "      <td>1.266462</td>\n",
       "      <td>0.000000</td>\n",
       "      <td>1.000000</td>\n",
       "      <td>1.000000</td>\n",
       "      <td>3.000000</td>\n",
       "      <td>4.000000</td>\n",
       "      <td>4.000000</td>\n",
       "      <td>4.000000</td>\n",
       "      <td>4.000000</td>\n",
       "      <td>5.000000</td>\n",
       "      <td>7.000000</td>\n",
       "    </tr>\n",
       "    <tr>\n",
       "      <th>artist_hotttnesss</th>\n",
       "      <td>9996.0</td>\n",
       "      <td>0.385707</td>\n",
       "      <td>0.143469</td>\n",
       "      <td>0.000000</td>\n",
       "      <td>0.049034</td>\n",
       "      <td>0.257063</td>\n",
       "      <td>0.311438</td>\n",
       "      <td>0.380756</td>\n",
       "      <td>0.434411</td>\n",
       "      <td>0.476761</td>\n",
       "      <td>0.547755</td>\n",
       "      <td>0.601186</td>\n",
       "      <td>1.082503</td>\n",
       "    </tr>\n",
       "    <tr>\n",
       "      <th>artist_familiarity</th>\n",
       "      <td>9996.0</td>\n",
       "      <td>0.565457</td>\n",
       "      <td>0.160161</td>\n",
       "      <td>0.000000</td>\n",
       "      <td>0.321843</td>\n",
       "      <td>0.379428</td>\n",
       "      <td>0.441050</td>\n",
       "      <td>0.563666</td>\n",
       "      <td>0.637508</td>\n",
       "      <td>0.697113</td>\n",
       "      <td>0.784970</td>\n",
       "      <td>0.839275</td>\n",
       "      <td>1.000000</td>\n",
       "    </tr>\n",
       "  </tbody>\n",
       "</table>\n",
       "</div>"
      ],
      "text/plain": [
       "                     count        mean         std        min          5%  \\\n",
       "duration            9996.0  238.518509  114.157639   1.044440  105.632202   \n",
       "key                 9996.0    5.276611    3.554199   0.000000    0.000000   \n",
       "loudness            9996.0  -10.488078    5.399334 -51.643002  -20.931750   \n",
       "mode                9996.0    0.690976    0.462114   0.000000    0.000000   \n",
       "tempo               9996.0  122.910576   35.183144   0.000000   74.134251   \n",
       "time_signature      9996.0    3.564626    1.266462   0.000000    1.000000   \n",
       "artist_hotttnesss   9996.0    0.385707    0.143469   0.000000    0.049034   \n",
       "artist_familiarity  9996.0    0.565457    0.160161   0.000000    0.321843   \n",
       "\n",
       "                           10%         20%         50%         70%  \\\n",
       "duration            135.274643  165.459137  223.059143  262.921997   \n",
       "key                   0.000000    1.000000    5.000000    8.000000   \n",
       "loudness            -17.424500  -14.253000   -9.382000   -7.057000   \n",
       "mode                  0.000000    0.000000    1.000000    1.000000   \n",
       "tempo                84.819500   92.884003  120.161003  138.030502   \n",
       "time_signature        1.000000    3.000000    4.000000    4.000000   \n",
       "artist_hotttnesss     0.257063    0.311438    0.380756    0.434411   \n",
       "artist_familiarity    0.379428    0.441050    0.563666    0.637508   \n",
       "\n",
       "                           80%         90%         95%          max  \n",
       "duration            291.578308  350.353821  421.700775  1819.767700  \n",
       "key                   9.000000   10.000000   11.000000    11.000000  \n",
       "loudness             -6.020000   -4.897000   -4.026250     0.566000  \n",
       "mode                  1.000000    1.000000    1.000000     1.000000  \n",
       "tempo               151.272995  169.888000  186.496498   262.828003  \n",
       "time_signature        4.000000    4.000000    5.000000     7.000000  \n",
       "artist_hotttnesss     0.476761    0.547755    0.601186     1.082503  \n",
       "artist_familiarity    0.697113    0.784970    0.839275     1.000000  "
      ]
     },
     "execution_count": 32,
     "metadata": {},
     "output_type": "execute_result"
    }
   ],
   "source": [
    "data_MSD.toPandas().describe(percentiles=[0.05,.1, .2, .5, .7, .8, .9,.95]).T"
   ]
  },
  {
   "cell_type": "markdown",
   "id": "3ea0b856",
   "metadata": {},
   "source": [
    "#### Now its time for Normalization: "
   ]
  },
  {
   "cell_type": "code",
   "execution_count": 34,
   "id": "206b37b4",
   "metadata": {},
   "outputs": [],
   "source": [
    "scalers_norm = {'duration': None, \n",
    "          'key': None, \n",
    "          'loudness': None,\n",
    "          'mode': None, \n",
    "          'tempo': None, \n",
    "          'time_signature': None, \n",
    "          'artist_hotttnesss': None,\n",
    "          'artist_familiarity': None}"
   ]
  },
  {
   "cell_type": "code",
   "execution_count": 35,
   "id": "16350230",
   "metadata": {},
   "outputs": [
    {
     "name": "stdout",
     "output_type": "stream",
     "text": [
      "Normalizing feature: duration\n",
      "Normalizing feature: key\n",
      "Normalizing feature: loudness\n",
      "Normalizing feature: mode\n",
      "Normalizing feature: tempo\n",
      "Normalizing feature: time_signature\n",
      "Normalizing feature: artist_hotttnesss\n",
      "Normalizing feature: artist_familiarity\n"
     ]
    }
   ],
   "source": [
    "for i in scalers_norm.keys(): \n",
    "    data_MSD_scaled , scalers_norm[i] = normalizer(data_MSD_scaled, i)\n",
    "    print('Normalizing feature: '+ i )"
   ]
  },
  {
   "cell_type": "markdown",
   "id": "ad16cf29",
   "metadata": {},
   "source": [
    "#### 1.3.4 Narmalized and Standardized data:"
   ]
  },
  {
   "cell_type": "code",
   "execution_count": 35,
   "id": "e1e029d7",
   "metadata": {},
   "outputs": [
    {
     "name": "stderr",
     "output_type": "stream",
     "text": [
      "C:\\Users\\shbpa\\AppData\\Local\\Temp/ipykernel_2712/3078121536.py:3: UserWarning: To output multiple subplots, the figure containing the passed axes is being cleared\n",
      "  data_MSD_scaled.toPandas().hist(ax = ax)\n"
     ]
    },
    {
     "data": {
      "text/plain": [
       "array([[<AxesSubplot:title={'center':'duration'}>,\n",
       "        <AxesSubplot:title={'center':'key'}>,\n",
       "        <AxesSubplot:title={'center':'loudness'}>],\n",
       "       [<AxesSubplot:title={'center':'mode'}>,\n",
       "        <AxesSubplot:title={'center':'tempo'}>,\n",
       "        <AxesSubplot:title={'center':'time_signature'}>],\n",
       "       [<AxesSubplot:title={'center':'artist_hotttnesss'}>,\n",
       "        <AxesSubplot:title={'center':'artist_familiarity'}>,\n",
       "        <AxesSubplot:>]], dtype=object)"
      ]
     },
     "execution_count": 35,
     "metadata": {},
     "output_type": "execute_result"
    },
    {
     "data": {
      "image/png": "[encoded data removed]",
      "text/plain": [
       "<Figure size 1080x1440 with 9 Axes>"
      ]
     },
     "metadata": {
      "needs_background": "light"
     },
     "output_type": "display_data"
    }
   ],
   "source": [
    "fig = plt.figure(figsize = (15,20))\n",
    "ax = fig.gca()\n",
    "data_MSD_scaled.toPandas().hist(ax = ax)"
   ]
  },
  {
   "cell_type": "code",
   "execution_count": 36,
   "id": "a81be774",
   "metadata": {},
   "outputs": [
    {
     "data": {
      "text/html": [
       "<div>\n",
       "<style scoped>\n",
       "    .dataframe tbody tr th:only-of-type {\n",
       "        vertical-align: middle;\n",
       "    }\n",
       "\n",
       "    .dataframe tbody tr th {\n",
       "        vertical-align: top;\n",
       "    }\n",
       "\n",
       "    .dataframe thead th {\n",
       "        text-align: right;\n",
       "    }\n",
       "</style>\n",
       "<table border=\"1\" class=\"dataframe\">\n",
       "  <thead>\n",
       "    <tr style=\"text-align: right;\">\n",
       "      <th></th>\n",
       "      <th>count</th>\n",
       "      <th>mean</th>\n",
       "      <th>std</th>\n",
       "      <th>min</th>\n",
       "      <th>5%</th>\n",
       "      <th>10%</th>\n",
       "      <th>20%</th>\n",
       "      <th>50%</th>\n",
       "      <th>70%</th>\n",
       "      <th>80%</th>\n",
       "      <th>90%</th>\n",
       "      <th>95%</th>\n",
       "      <th>max</th>\n",
       "    </tr>\n",
       "  </thead>\n",
       "  <tbody>\n",
       "    <tr>\n",
       "      <th>duration</th>\n",
       "      <td>9996.0</td>\n",
       "      <td>0.130572</td>\n",
       "      <td>0.062768</td>\n",
       "      <td>0.0</td>\n",
       "      <td>0.057506</td>\n",
       "      <td>0.073805</td>\n",
       "      <td>0.090401</td>\n",
       "      <td>0.122072</td>\n",
       "      <td>0.143990</td>\n",
       "      <td>0.159746</td>\n",
       "      <td>0.192063</td>\n",
       "      <td>0.231292</td>\n",
       "      <td>1.0</td>\n",
       "    </tr>\n",
       "    <tr>\n",
       "      <th>key</th>\n",
       "      <td>9996.0</td>\n",
       "      <td>0.479692</td>\n",
       "      <td>0.323109</td>\n",
       "      <td>0.0</td>\n",
       "      <td>0.000000</td>\n",
       "      <td>0.000000</td>\n",
       "      <td>0.090909</td>\n",
       "      <td>0.454545</td>\n",
       "      <td>0.727273</td>\n",
       "      <td>0.818182</td>\n",
       "      <td>0.909091</td>\n",
       "      <td>1.000000</td>\n",
       "      <td>1.0</td>\n",
       "    </tr>\n",
       "    <tr>\n",
       "      <th>loudness</th>\n",
       "      <td>9996.0</td>\n",
       "      <td>0.788272</td>\n",
       "      <td>0.103418</td>\n",
       "      <td>0.0</td>\n",
       "      <td>0.588237</td>\n",
       "      <td>0.655414</td>\n",
       "      <td>0.716160</td>\n",
       "      <td>0.809458</td>\n",
       "      <td>0.853991</td>\n",
       "      <td>0.873853</td>\n",
       "      <td>0.895363</td>\n",
       "      <td>0.912041</td>\n",
       "      <td>1.0</td>\n",
       "    </tr>\n",
       "    <tr>\n",
       "      <th>mode</th>\n",
       "      <td>9996.0</td>\n",
       "      <td>0.690976</td>\n",
       "      <td>0.462114</td>\n",
       "      <td>0.0</td>\n",
       "      <td>0.000000</td>\n",
       "      <td>0.000000</td>\n",
       "      <td>0.000000</td>\n",
       "      <td>1.000000</td>\n",
       "      <td>1.000000</td>\n",
       "      <td>1.000000</td>\n",
       "      <td>1.000000</td>\n",
       "      <td>1.000000</td>\n",
       "      <td>1.0</td>\n",
       "    </tr>\n",
       "    <tr>\n",
       "      <th>tempo</th>\n",
       "      <td>9996.0</td>\n",
       "      <td>0.467646</td>\n",
       "      <td>0.133864</td>\n",
       "      <td>0.0</td>\n",
       "      <td>0.282064</td>\n",
       "      <td>0.322719</td>\n",
       "      <td>0.353402</td>\n",
       "      <td>0.457185</td>\n",
       "      <td>0.525174</td>\n",
       "      <td>0.575559</td>\n",
       "      <td>0.646385</td>\n",
       "      <td>0.709576</td>\n",
       "      <td>1.0</td>\n",
       "    </tr>\n",
       "    <tr>\n",
       "      <th>time_signature</th>\n",
       "      <td>9996.0</td>\n",
       "      <td>0.509232</td>\n",
       "      <td>0.180923</td>\n",
       "      <td>0.0</td>\n",
       "      <td>0.142857</td>\n",
       "      <td>0.142857</td>\n",
       "      <td>0.428571</td>\n",
       "      <td>0.571429</td>\n",
       "      <td>0.571429</td>\n",
       "      <td>0.571429</td>\n",
       "      <td>0.571429</td>\n",
       "      <td>0.714286</td>\n",
       "      <td>1.0</td>\n",
       "    </tr>\n",
       "    <tr>\n",
       "      <th>artist_hotttnesss</th>\n",
       "      <td>9996.0</td>\n",
       "      <td>0.356310</td>\n",
       "      <td>0.132534</td>\n",
       "      <td>0.0</td>\n",
       "      <td>0.045297</td>\n",
       "      <td>0.237471</td>\n",
       "      <td>0.287702</td>\n",
       "      <td>0.351737</td>\n",
       "      <td>0.401303</td>\n",
       "      <td>0.440425</td>\n",
       "      <td>0.506008</td>\n",
       "      <td>0.555367</td>\n",
       "      <td>1.0</td>\n",
       "    </tr>\n",
       "    <tr>\n",
       "      <th>artist_familiarity</th>\n",
       "      <td>9996.0</td>\n",
       "      <td>0.565456</td>\n",
       "      <td>0.160161</td>\n",
       "      <td>0.0</td>\n",
       "      <td>0.321843</td>\n",
       "      <td>0.379428</td>\n",
       "      <td>0.441050</td>\n",
       "      <td>0.563666</td>\n",
       "      <td>0.637508</td>\n",
       "      <td>0.697113</td>\n",
       "      <td>0.784970</td>\n",
       "      <td>0.839275</td>\n",
       "      <td>1.0</td>\n",
       "    </tr>\n",
       "  </tbody>\n",
       "</table>\n",
       "</div>"
      ],
      "text/plain": [
       "                     count      mean       std  min        5%       10%  \\\n",
       "duration            9996.0  0.130572  0.062768  0.0  0.057506  0.073805   \n",
       "key                 9996.0  0.479692  0.323109  0.0  0.000000  0.000000   \n",
       "loudness            9996.0  0.788272  0.103418  0.0  0.588237  0.655414   \n",
       "mode                9996.0  0.690976  0.462114  0.0  0.000000  0.000000   \n",
       "tempo               9996.0  0.467646  0.133864  0.0  0.282064  0.322719   \n",
       "time_signature      9996.0  0.509232  0.180923  0.0  0.142857  0.142857   \n",
       "artist_hotttnesss   9996.0  0.356310  0.132534  0.0  0.045297  0.237471   \n",
       "artist_familiarity  9996.0  0.565456  0.160161  0.0  0.321843  0.379428   \n",
       "\n",
       "                         20%       50%       70%       80%       90%  \\\n",
       "duration            0.090401  0.122072  0.143990  0.159746  0.192063   \n",
       "key                 0.090909  0.454545  0.727273  0.818182  0.909091   \n",
       "loudness            0.716160  0.809458  0.853991  0.873853  0.895363   \n",
       "mode                0.000000  1.000000  1.000000  1.000000  1.000000   \n",
       "tempo               0.353402  0.457185  0.525174  0.575559  0.646385   \n",
       "time_signature      0.428571  0.571429  0.571429  0.571429  0.571429   \n",
       "artist_hotttnesss   0.287702  0.351737  0.401303  0.440425  0.506008   \n",
       "artist_familiarity  0.441050  0.563666  0.637508  0.697113  0.784970   \n",
       "\n",
       "                         95%  max  \n",
       "duration            0.231292  1.0  \n",
       "key                 1.000000  1.0  \n",
       "loudness            0.912041  1.0  \n",
       "mode                1.000000  1.0  \n",
       "tempo               0.709576  1.0  \n",
       "time_signature      0.714286  1.0  \n",
       "artist_hotttnesss   0.555367  1.0  \n",
       "artist_familiarity  0.839275  1.0  "
      ]
     },
     "execution_count": 36,
     "metadata": {},
     "output_type": "execute_result"
    }
   ],
   "source": [
    "data_MSD_scaled.toPandas().describe(percentiles=[0.05,.1, .2, .5, .7, .8, .9,.95]).T"
   ]
  },
  {
   "cell_type": "code",
   "execution_count": 122,
   "id": "52f8c560",
   "metadata": {},
   "outputs": [
    {
     "data": {
      "text/plain": [
       "DataFrame[song_id: string, title: string, artist_id: string, duration: double, key: double, loudness: double, mode: double, tempo: double, time_signature: double, artist_hotttnesss: double, artist_familiarity: double]"
      ]
     },
     "execution_count": 122,
     "metadata": {},
     "output_type": "execute_result"
    }
   ],
   "source": [
    "data_MSD_scaled.persist()"
   ]
  },
  {
   "cell_type": "markdown",
   "id": "e1cf2ea8",
   "metadata": {},
   "source": [
    "#### 1.3.5 Store the scaled and pruned MSD dataset to a csv file"
   ]
  },
  {
   "cell_type": "code",
   "execution_count": 124,
   "id": "c6e1e885",
   "metadata": {},
   "outputs": [],
   "source": [
    "#data_MSD_scaled.write.mode(\"overwrite\").csv('data_MSD_scaled.csv') error\n",
    "data_MSD_scaled.toPandas().to_csv(\"data_MSD_scaled1.csv\", header=True)"
   ]
  },
  {
   "cell_type": "code",
   "execution_count": null,
   "id": "067223e1",
   "metadata": {},
   "outputs": [],
   "source": [
    "df.write.mode(SaveMode.Overwrite).csv(\"file.csv\")"
   ]
  },
  {
   "cell_type": "code",
   "execution_count": null,
   "id": "2950a829",
   "metadata": {},
   "outputs": [],
   "source": [
    "df.write.mode(\"overwrite\").csv(\"file.csv\")"
   ]
  },
  {
   "cell_type": "markdown",
   "id": "38224bfe",
   "metadata": {},
   "source": [
    "## 2. Second dataset (User-Song implicit rating)\n",
    "### 2.1 Load User-Items(Music) dataset: \n",
    "- This dataset consists of three columns: <b>userId</b>, <b>songId</b>, and number of play for each song(<b>play_count</b>). \n",
    "- Consists of 1 Million user \n",
    "- Since the Million Song Dataset is a subset of all dataset(10000 songs) we should match songs of this dataset with the songs of above dataset"
   ]
  },
  {
   "cell_type": "code",
   "execution_count": 36,
   "id": "e5969687",
   "metadata": {},
   "outputs": [],
   "source": [
    "# define schema, nullable is set true\n",
    "schema2 = StructType([\n",
    "    StructField('userId', StringType(), True),\n",
    "    StructField('songId', StringType(), True),\n",
    "    StructField('play_count', IntegerType(), True)])"
   ]
  },
  {
   "cell_type": "code",
   "execution_count": 37,
   "id": "4d40a71d",
   "metadata": {},
   "outputs": [],
   "source": [
    "# Read the csv file, each coloumn is divided by a tab (from csv into a spark dataframe)\n",
    "data_imp_rating_full = spark.read.option(\"delimiter\", \"\\t\").schema(schema2).csv(data_imp_rating_path)"
   ]
  },
  {
   "cell_type": "code",
   "execution_count": 38,
   "id": "057b667b",
   "metadata": {},
   "outputs": [
    {
     "data": {
      "text/plain": [
       "['userId', 'songId', 'play_count']"
      ]
     },
     "execution_count": 38,
     "metadata": {},
     "output_type": "execute_result"
    }
   ],
   "source": [
    "data_imp_rating_full.columns"
   ]
  },
  {
   "cell_type": "code",
   "execution_count": 57,
   "id": "a578ecf2",
   "metadata": {
    "scrolled": true
   },
   "outputs": [
    {
     "name": "stdout",
     "output_type": "stream",
     "text": [
      "+-------+--------------------+------------------+-----------------+\n",
      "|summary|              userId|            songId|       play_count|\n",
      "+-------+--------------------+------------------+-----------------+\n",
      "|  count|            48373586|          48373586|         48373586|\n",
      "|   mean|                null|              null|2.866858847305635|\n",
      "| stddev|                null|              null|6.437724686877057|\n",
      "|    min|00000b72200188206...|SOAAADD12AB018A9DD|                1|\n",
      "|    max|fffff9534445f481b...|SOZZZWN12AF72A1E29|             9667|\n",
      "+-------+--------------------+------------------+-----------------+\n",
      "\n"
     ]
    }
   ],
   "source": [
    "data_imp_rating_full.describe().show()"
   ]
  },
  {
   "cell_type": "code",
   "execution_count": 58,
   "id": "fa2cc39b",
   "metadata": {
    "scrolled": true
   },
   "outputs": [
    {
     "name": "stdout",
     "output_type": "stream",
     "text": [
      "+--------------------+------------------+----------+\n",
      "|              userId|            songId|play_count|\n",
      "+--------------------+------------------+----------+\n",
      "|b80344d063b5ccb32...|SOAKIMP12A8C130995|         1|\n",
      "|b80344d063b5ccb32...|SOAPDEY12A81C210A9|         1|\n",
      "+--------------------+------------------+----------+\n",
      "only showing top 2 rows\n",
      "\n"
     ]
    }
   ],
   "source": [
    "data_imp_rating_full.show(2)"
   ]
  },
  {
   "cell_type": "markdown",
   "id": "b837d8f4",
   "metadata": {},
   "source": [
    "### 2.2 Preprocessing:  \n",
    "- Since we are using a subset of songs dataset(MSD subset), it is possible that some songs in User-Songs dataset not to be in the MSD dataset. To make sure we are going to keep only songs in the MSD dataset with leftsemi join method, as follows: "
   ]
  },
  {
   "cell_type": "code",
   "execution_count": 128,
   "id": "4a34d2f8",
   "metadata": {},
   "outputs": [
    {
     "data": {
      "text/plain": [
       "48373586"
      ]
     },
     "execution_count": 128,
     "metadata": {},
     "output_type": "execute_result"
    }
   ],
   "source": [
    "# whole number of user-song data\n",
    "data_imp_rating_full.count()"
   ]
  },
  {
   "cell_type": "code",
   "execution_count": 39,
   "id": "15377825",
   "metadata": {},
   "outputs": [],
   "source": [
    "# keep records with songs in the MSD data \n",
    "data_imp_rating = data_imp_rating_full.join(data_MSD, data_imp_rating_full.songId ==  data_MSD.song_id, \"leftsemi\")"
   ]
  },
  {
   "cell_type": "code",
   "execution_count": 130,
   "id": "49663c55",
   "metadata": {},
   "outputs": [
    {
     "data": {
      "text/plain": [
       "DataFrame[userId: string, songId: string, play_count: int]"
      ]
     },
     "execution_count": 130,
     "metadata": {},
     "output_type": "execute_result"
    }
   ],
   "source": [
    "data_imp_rating.persist()"
   ]
  },
  {
   "cell_type": "code",
   "execution_count": 131,
   "id": "b1d5da54",
   "metadata": {},
   "outputs": [
    {
     "data": {
      "text/plain": [
       "772661"
      ]
     },
     "execution_count": 131,
     "metadata": {},
     "output_type": "execute_result"
    }
   ],
   "source": [
    "# count the number of remaining records \n",
    "data_imp_rating.count()"
   ]
  },
  {
   "cell_type": "code",
   "execution_count": 65,
   "id": "74af2d77",
   "metadata": {},
   "outputs": [
    {
     "name": "stdout",
     "output_type": "stream",
     "text": [
      "+-------+--------------------+------------------+-----------------+\n",
      "|summary|              userId|            songId|       play_count|\n",
      "+-------+--------------------+------------------+-----------------+\n",
      "|  count|              772661|            772661|           772661|\n",
      "|   mean|                null|              null|2.684340221649598|\n",
      "| stddev|                null|              null|5.454645798218129|\n",
      "|    min|00001638d61892368...|SOAAAQN12AB01856D3|                1|\n",
      "|    max|fffff67d54a40927c...|SOZZVMW12AB0183B52|              771|\n",
      "+-------+--------------------+------------------+-----------------+\n",
      "\n"
     ]
    }
   ],
   "source": [
    "data_imp_rating.describe().show()"
   ]
  },
  {
   "cell_type": "markdown",
   "id": "d3e8fdc2",
   "metadata": {},
   "source": [
    "### 2.3 Splitting Data: \n",
    "Since we are going to recommend song to users based on implicit ratings, we only need to split this dataset. \n",
    "Here we are going to use two different methods of splitting data- Stratified sampling and Random split. \n",
    "\n",
    "Before anything, it should be mentioned that we are going to use ALS algorithm for extrapolating missing values in user-item matrix in Latent_Factor approach. This algorithm is predefined in pySpark. To use it, we should pass userId and songId as integer, while it is string in our dataset. Now, before splitting the data, two columns \"songIndex\" and \"userIndex\" should be added to the dataset. These colomns are generated simply by giving index to a column of unique songs and a column of unique users."
   ]
  },
  {
   "cell_type": "markdown",
   "id": "334088df",
   "metadata": {},
   "source": [
    "#### 2.3.1 Convert userIds and songIds from string to integer: "
   ]
  },
  {
   "cell_type": "code",
   "execution_count": 40,
   "id": "be439aaa",
   "metadata": {},
   "outputs": [],
   "source": [
    "# get the userId column, drop the duplicates values and put them in a window to have unique and consequtive indices\n",
    "userIds= data_imp_rating.select('userId').dropDuplicates().withColumn(\"index\",row_number().over(Window.orderBy(monotonically_increasing_id())))"
   ]
  },
  {
   "cell_type": "code",
   "execution_count": 133,
   "id": "568d2fa3",
   "metadata": {},
   "outputs": [
    {
     "data": {
      "text/plain": [
       "[Row(userId='2c218a60b3d777e9e12d56c2e065a9644b5e5f41', index=1),\n",
       " Row(userId='cc9fc2eccf0d6fe78d1fb2b0c3ff924f54482169', index=2),\n",
       " Row(userId='ae0565253d822cdc47c645a1b29cb6a5e2e2ab16', index=3),\n",
       " Row(userId='74d0c24a0bb5bde014ffbf57fc5c51b9b5b799a0', index=4),\n",
       " Row(userId='58f2d6ed090ba4626486e6ad205eb09365adfbf3', index=5)]"
      ]
     },
     "execution_count": 133,
     "metadata": {},
     "output_type": "execute_result"
    }
   ],
   "source": [
    "userIds.head(5)"
   ]
  },
  {
   "cell_type": "code",
   "execution_count": 134,
   "id": "0fc64515",
   "metadata": {},
   "outputs": [
    {
     "data": {
      "text/plain": [
       "418252"
      ]
     },
     "execution_count": 134,
     "metadata": {},
     "output_type": "execute_result"
    }
   ],
   "source": [
    "userIds.count()"
   ]
  },
  {
   "cell_type": "code",
   "execution_count": 41,
   "id": "63655335",
   "metadata": {},
   "outputs": [],
   "source": [
    "# same process as above\n",
    "songIds = data_imp_rating.select('songId').dropDuplicates().withColumn(\"index\",row_number().over(Window.orderBy(monotonically_increasing_id())))"
   ]
  },
  {
   "cell_type": "code",
   "execution_count": 136,
   "id": "e9fb0840",
   "metadata": {},
   "outputs": [
    {
     "data": {
      "text/plain": [
       "3675"
      ]
     },
     "execution_count": 136,
     "metadata": {},
     "output_type": "execute_result"
    }
   ],
   "source": [
    "songIds.count()"
   ]
  },
  {
   "cell_type": "code",
   "execution_count": 137,
   "id": "ff747e95",
   "metadata": {},
   "outputs": [
    {
     "data": {
      "text/plain": [
       "[Row(songId='SOTSIIH12A8C13A516', index=1),\n",
       " Row(songId='SOVPUVS12A6D4F7988', index=2),\n",
       " Row(songId='SOCKUUJ12A6D4FA41C', index=3),\n",
       " Row(songId='SOJUGKQ12A8C13A83A', index=4),\n",
       " Row(songId='SOSIVPO12AB017D5E9', index=5)]"
      ]
     },
     "execution_count": 137,
     "metadata": {},
     "output_type": "execute_result"
    }
   ],
   "source": [
    "songIds.head(5)"
   ]
  },
  {
   "cell_type": "markdown",
   "id": "f8bed55d",
   "metadata": {},
   "source": [
    "##### Rename the columns and add to the data_imp_rating dataset"
   ]
  },
  {
   "cell_type": "code",
   "execution_count": 42,
   "id": "5b546a4e",
   "metadata": {},
   "outputs": [],
   "source": [
    "userIds = userIds.withColumnRenamed('index', 'userIndex')"
   ]
  },
  {
   "cell_type": "code",
   "execution_count": 43,
   "id": "9ca5bdd1",
   "metadata": {},
   "outputs": [],
   "source": [
    "songIds = songIds.withColumnRenamed('index', 'songIndex')"
   ]
  },
  {
   "cell_type": "code",
   "execution_count": 44,
   "id": "3c3e6824",
   "metadata": {},
   "outputs": [],
   "source": [
    "data_imp_rating = data_imp_rating.join(userIds, ['userId'])"
   ]
  },
  {
   "cell_type": "code",
   "execution_count": 45,
   "id": "be1fd239",
   "metadata": {},
   "outputs": [],
   "source": [
    "data_imp_rating = data_imp_rating.join(songIds, ['songId'])"
   ]
  },
  {
   "cell_type": "code",
   "execution_count": 46,
   "id": "a15df595",
   "metadata": {
    "scrolled": true
   },
   "outputs": [
    {
     "data": {
      "text/plain": [
       "['songId', 'userId', 'play_count', 'userIndex', 'songIndex']"
      ]
     },
     "execution_count": 46,
     "metadata": {},
     "output_type": "execute_result"
    }
   ],
   "source": [
    "# Finall data Model of implicit rating dataset\n",
    "data_imp_rating.columns"
   ]
  },
  {
   "cell_type": "code",
   "execution_count": null,
   "id": "3254a2b3",
   "metadata": {},
   "outputs": [],
   "source": []
  },
  {
   "cell_type": "markdown",
   "id": "afb54b9c",
   "metadata": {},
   "source": [
    "#### 2.3.2 Stratified sampling: \n",
    "In order to split data based on userId, users with more than 5 songs are collected to make sure we have enough data in train and test. "
   ]
  },
  {
   "cell_type": "code",
   "execution_count": 47,
   "id": "26a9eb9e",
   "metadata": {},
   "outputs": [],
   "source": [
    "ss = data_imp_rating.groupby('userId').agg({'userId': 'count'}).filter(col(\"count(userId)\")>4)\n",
    "ss = data_imp_rating.join(ss, ['userId'])"
   ]
  },
  {
   "cell_type": "code",
   "execution_count": 48,
   "id": "fa04776b",
   "metadata": {},
   "outputs": [
    {
     "data": {
      "text/plain": [
       "['userId', 'songId', 'play_count', 'userIndex', 'songIndex', 'count(userId)']"
      ]
     },
     "execution_count": 48,
     "metadata": {},
     "output_type": "execute_result"
    }
   ],
   "source": [
    "ss.columns"
   ]
  },
  {
   "cell_type": "code",
   "execution_count": 49,
   "id": "ea00184f",
   "metadata": {},
   "outputs": [],
   "source": [
    "fractions = ss.select(\"userId\").distinct().withColumn('fraction', F.lit(0.2)).rdd.collectAsMap()"
   ]
  },
  {
   "cell_type": "code",
   "execution_count": 50,
   "id": "4b7585c0",
   "metadata": {},
   "outputs": [],
   "source": [
    "test_imp_data = ss.stat.sampleBy('userId', fractions, seed = 42).drop(\"count(userId)\")"
   ]
  },
  {
   "cell_type": "code",
   "execution_count": 51,
   "id": "e5d0bb6d",
   "metadata": {},
   "outputs": [],
   "source": [
    "cond = [test_imp_data.userId == ss.userId, test_imp_data.songId == ss.songId]"
   ]
  },
  {
   "cell_type": "code",
   "execution_count": 52,
   "id": "c1fcd035",
   "metadata": {},
   "outputs": [],
   "source": [
    "train_imp_data = ss.join(test_imp_data, cond , \"leftanti\" )#drop(\"count(userId)\")\n",
    "# train_imp_data = train_imp_data.join(ss)"
   ]
  },
  {
   "cell_type": "code",
   "execution_count": 53,
   "id": "bab1d3de",
   "metadata": {},
   "outputs": [],
   "source": [
    "train_imp_data = train_imp_data.drop('count(userId)')"
   ]
  },
  {
   "cell_type": "code",
   "execution_count": 54,
   "id": "ce226910",
   "metadata": {},
   "outputs": [
    {
     "data": {
      "text/plain": [
       "['userId', 'songId', 'play_count', 'userIndex', 'songIndex']"
      ]
     },
     "execution_count": 54,
     "metadata": {},
     "output_type": "execute_result"
    }
   ],
   "source": [
    "test_imp_data.columns"
   ]
  },
  {
   "cell_type": "code",
   "execution_count": 55,
   "id": "00e586b3",
   "metadata": {},
   "outputs": [
    {
     "data": {
      "text/plain": [
       "['userId', 'songId', 'play_count', 'userIndex', 'songIndex']"
      ]
     },
     "execution_count": 55,
     "metadata": {},
     "output_type": "execute_result"
    }
   ],
   "source": [
    "train_imp_data.columns"
   ]
  },
  {
   "cell_type": "code",
   "execution_count": 152,
   "id": "68a2a744",
   "metadata": {},
   "outputs": [
    {
     "data": {
      "text/plain": [
       "[Row(userId='0359ab58a65430dd7f652138e86663709a887829', songId='SOEKSGJ12A67AE227E', play_count=2, userIndex=1414, songIndex=3276),\n",
       " Row(userId='0486147ef9c026213cf6f77d62577a9cd71f9bd3', songId='SOTXXBT12A6D4F6B25', play_count=1, userIndex=210, songIndex=2653),\n",
       " Row(userId='0486147ef9c026213cf6f77d62577a9cd71f9bd3', songId='SOCXWEG12A6D4FBEA3', play_count=1, userIndex=210, songIndex=3640),\n",
       " Row(userId='07e62756f710c6a69bdfd5a7cb7a14bfbeb773cf', songId='SODTTUB12AB0184F48', play_count=1, userIndex=904, songIndex=2314),\n",
       " Row(userId='0af944c051730d2c2ab2ddc39d3f8f4d41fc58a1', songId='SOIGZOE12AB017F37D', play_count=7, userIndex=1595, songIndex=2555)]"
      ]
     },
     "execution_count": 152,
     "metadata": {},
     "output_type": "execute_result"
    }
   ],
   "source": [
    "test_imp_data.head(5)"
   ]
  },
  {
   "cell_type": "code",
   "execution_count": 56,
   "id": "70eb15f7",
   "metadata": {},
   "outputs": [
    {
     "data": {
      "text/plain": [
       "DataFrame[userId: string, songId: string, play_count: int, userIndex: int, songIndex: int]"
      ]
     },
     "execution_count": 56,
     "metadata": {},
     "output_type": "execute_result"
    }
   ],
   "source": [
    "test_imp_data.persist()"
   ]
  },
  {
   "cell_type": "code",
   "execution_count": 57,
   "id": "f2d99041",
   "metadata": {},
   "outputs": [
    {
     "data": {
      "text/plain": [
       "DataFrame[userId: string, songId: string, play_count: int, userIndex: int, songIndex: int]"
      ]
     },
     "execution_count": 57,
     "metadata": {},
     "output_type": "execute_result"
    }
   ],
   "source": [
    "train_imp_data.persist()"
   ]
  },
  {
   "cell_type": "markdown",
   "id": "524bb1d1",
   "metadata": {},
   "source": [
    "#### 2.3.3 Random sampling: \n",
    "Splitting the implicit rating dataset randomly. But it causes an error in content-based method because we need for each user at least one song to be able to create the user profile. Therefore spliting randomly rase an error in creating user profile. "
   ]
  },
  {
   "cell_type": "code",
   "execution_count": 92,
   "id": "b3df9ac2",
   "metadata": {},
   "outputs": [],
   "source": [
    "(train_random_split, test_random_split) = data_imp_rating.randomSplit([0.8, 0.2], seed = 42)"
   ]
  },
  {
   "cell_type": "code",
   "execution_count": 155,
   "id": "3734def0",
   "metadata": {},
   "outputs": [
    {
     "data": {
      "text/plain": [
       "DataFrame[songId: string, userId: string, play_count: int, userIndex: int, songIndex: int]"
      ]
     },
     "execution_count": 155,
     "metadata": {},
     "output_type": "execute_result"
    }
   ],
   "source": [
    "train_random_split.persist()"
   ]
  },
  {
   "cell_type": "code",
   "execution_count": 156,
   "id": "3c81f3d6",
   "metadata": {},
   "outputs": [
    {
     "data": {
      "text/plain": [
       "DataFrame[songId: string, userId: string, play_count: int, userIndex: int, songIndex: int]"
      ]
     },
     "execution_count": 156,
     "metadata": {},
     "output_type": "execute_result"
    }
   ],
   "source": [
    "test_random_split.persist()"
   ]
  },
  {
   "cell_type": "markdown",
   "id": "f0526e12",
   "metadata": {},
   "source": [
    "#### 2.3.4 Store train and test data as csv"
   ]
  },
  {
   "cell_type": "code",
   "execution_count": 160,
   "id": "a0487b86",
   "metadata": {},
   "outputs": [],
   "source": [
    "test_random_split.toPandas().to_csv(\"test_random.csv\", header=True)"
   ]
  },
  {
   "cell_type": "code",
   "execution_count": 162,
   "id": "86baba0c",
   "metadata": {},
   "outputs": [],
   "source": [
    "train_random_split.toPandas().to_csv(\"train_random.csv\", header=True)"
   ]
  },
  {
   "cell_type": "code",
   "execution_count": 97,
   "id": "498f186a",
   "metadata": {},
   "outputs": [],
   "source": [
    "train_imp_data.toPandas().to_csv(\"train_stratified.csv\", header=True)"
   ]
  },
  {
   "cell_type": "code",
   "execution_count": 98,
   "id": "e48f896e",
   "metadata": {},
   "outputs": [],
   "source": [
    "test_imp_data.toPandas().to_csv(\"test_stratified.csv\", header=True)"
   ]
  },
  {
   "cell_type": "code",
   "execution_count": null,
   "id": "b1775ce1",
   "metadata": {},
   "outputs": [],
   "source": []
  },
  {
   "cell_type": "markdown",
   "id": "c6f5c738",
   "metadata": {},
   "source": [
    "# 3. Recommendation Systems: "
   ]
  },
  {
   "cell_type": "markdown",
   "id": "7afb4eac",
   "metadata": {},
   "source": [
    "## 3.1Content-Based Recommendation System: \n",
    "For content-based model we can only work with train and test data generated by stratified sampling method, because we have to make sure that is possible to create users profile. If there is no song record for a user, there is no other way to create profile for the user. "
   ]
  },
  {
   "cell_type": "markdown",
   "id": "a29a7649",
   "metadata": {},
   "source": [
    "### 3.1.2 Creating user_profile data model:"
   ]
  },
  {
   "cell_type": "code",
   "execution_count": 58,
   "id": "74f29aec",
   "metadata": {},
   "outputs": [],
   "source": [
    "train_CB = train_imp_data.select('userId', 'songId', 'play_count')"
   ]
  },
  {
   "cell_type": "code",
   "execution_count": 59,
   "id": "8ce59344",
   "metadata": {},
   "outputs": [
    {
     "data": {
      "text/plain": [
       "['userId', 'songId', 'play_count']"
      ]
     },
     "execution_count": 59,
     "metadata": {},
     "output_type": "execute_result"
    }
   ],
   "source": [
    "train_CB.columns"
   ]
  },
  {
   "cell_type": "code",
   "execution_count": 60,
   "id": "badc0550",
   "metadata": {},
   "outputs": [],
   "source": [
    "data_MSD_features = ['duration',\n",
    "                     'key', \n",
    "                     'loudness',\n",
    "                     'mode',\n",
    "                     'tempo',\n",
    "                     'time_signature',\n",
    "                     'artist_hotttnesss', \n",
    "                     'artist_familiarity']"
   ]
  },
  {
   "cell_type": "code",
   "execution_count": 61,
   "id": "d3f883ee",
   "metadata": {},
   "outputs": [],
   "source": [
    "# add features of each song based on song_id from data_MSD dataset to the implicit rating test dataset(user-song-plays)\n",
    "user_profile = train_CB\n",
    "user_profile = user_profile.join(data_MSD_scaled, data_MSD_scaled.song_id == user_profile.songId ).drop()"
   ]
  },
  {
   "cell_type": "code",
   "execution_count": 62,
   "id": "6e8eda4a",
   "metadata": {},
   "outputs": [
    {
     "data": {
      "text/plain": [
       "['userId',\n",
       " 'songId',\n",
       " 'play_count',\n",
       " 'song_id',\n",
       " 'title',\n",
       " 'artist_id',\n",
       " 'duration',\n",
       " 'key',\n",
       " 'loudness',\n",
       " 'mode',\n",
       " 'tempo',\n",
       " 'time_signature',\n",
       " 'artist_hotttnesss',\n",
       " 'artist_familiarity']"
      ]
     },
     "execution_count": 62,
     "metadata": {},
     "output_type": "execute_result"
    }
   ],
   "source": [
    "user_profile.columns"
   ]
  },
  {
   "cell_type": "code",
   "execution_count": 63,
   "id": "0d1ee280",
   "metadata": {},
   "outputs": [
    {
     "name": "stdout",
     "output_type": "stream",
     "text": [
      "+--------------------+------------------+----------+------------------+--------------------+------------------+-------------------+-------------------+------------------+----+------------------+-------------------+------------------+------------------+\n",
      "|              userId|            songId|play_count|           song_id|               title|         artist_id|           duration|                key|          loudness|mode|             tempo|     time_signature| artist_hotttnesss|artist_familiarity|\n",
      "+--------------------+------------------+----------+------------------+--------------------+------------------+-------------------+-------------------+------------------+----+------------------+-------------------+------------------+------------------+\n",
      "|0359ab58a65430dd7...|SORJVDO12AF72A1970|         7|SORJVDO12AF72A1970|  Stockholm Syndrome|ARR3ONV1187B9A2F59|0.16270486591302885|0.18181818181818182|0.8961864828611346| 0.0|0.4875203603012791| 0.5714285714285714|0.6932330032189183|0.9290302991867065|\n",
      "|0359ab58a65430dd7...|SOIZLKI12A6D4F7B61|         5|SOIZLKI12A6D4F7B61|Supermassive Blac...|ARR3ONV1187B9A2F59| 0.1145311181553525| 0.6363636363636364|0.9257024682717757| 1.0|0.4566104098440983| 0.5714285714285714|0.6932330032189183|0.9290302991867065|\n",
      "|0359ab58a65430dd7...|SOJCBAM12A6701FD04|         1|SOJCBAM12A6701FD04|           Paralyzed|AREHK7O1187B9ADDD7| 0.1626474123191871| 0.2727272727272727|0.8557336887794134| 1.0|0.5527226721446927| 0.5714285714285714|0.4880378583565786|0.7498763799667358|\n",
      "|0359ab58a65430dd7...|SOTEFFR12A8C144765|         6|SOTEFFR12A8C144765|A Dustland Fairytale|ARVG4OK1187B9B6BD3|0.12320640946940183|                1.0| 0.897067557052497| 0.0|0.5126318049386764|0.14285714285714285|0.7657314587327615|0.9184517860412598|\n",
      "|0359ab58a65430dd7...|SOPFURM12A67020D2A|         1|SOPFURM12A67020D2A|            Iron Man|AREHK7O1187B9ADDD7|0.14225183955648957| 0.4545454545454546|0.7942691900167295| 1.0|0.5225546506016711| 0.5714285714285714|0.4880378583565786|0.7498763799667358|\n",
      "+--------------------+------------------+----------+------------------+--------------------+------------------+-------------------+-------------------+------------------+----+------------------+-------------------+------------------+------------------+\n",
      "only showing top 5 rows\n",
      "\n"
     ]
    }
   ],
   "source": [
    "user_profile.show(5)"
   ]
  },
  {
   "cell_type": "code",
   "execution_count": 64,
   "id": "32033687",
   "metadata": {},
   "outputs": [],
   "source": [
    "# calculate the product of each feature with play_count column  \n",
    "for x in data_MSD_features:\n",
    "    user_profile = user_profile.withColumn(x, col(x)*col('play_count'))\n",
    "    \n",
    "user_profile = user_profile.groupby('userId').sum('duration',\n",
    "                                                  'key', \n",
    "                                                  'loudness',\n",
    "                                                  'mode',\n",
    "                                                  'tempo',\n",
    "                                                  'time_signature',\n",
    "                                                  'artist_hotttnesss', \n",
    "                                                  'artist_familiarity')\n"
   ]
  },
  {
   "cell_type": "code",
   "execution_count": 65,
   "id": "0360ebb9",
   "metadata": {},
   "outputs": [
    {
     "data": {
      "text/plain": [
       "['userId',\n",
       " 'sum(duration)',\n",
       " 'sum(key)',\n",
       " 'sum(loudness)',\n",
       " 'sum(mode)',\n",
       " 'sum(tempo)',\n",
       " 'sum(time_signature)',\n",
       " 'sum(artist_hotttnesss)',\n",
       " 'sum(artist_familiarity)']"
      ]
     },
     "execution_count": 65,
     "metadata": {},
     "output_type": "execute_result"
    }
   ],
   "source": [
    "user_profile.columns"
   ]
  },
  {
   "cell_type": "code",
   "execution_count": 66,
   "id": "0d90d952",
   "metadata": {},
   "outputs": [],
   "source": [
    "temp_name = ['sum(duration)',\n",
    "             'sum(key)', \n",
    "             'sum(loudness)',\n",
    "             'sum(mode)',\n",
    "             'sum(tempo)',\n",
    "             'sum(time_signature)',\n",
    "             'sum(artist_hotttnesss)', \n",
    "             'sum(artist_familiarity)']"
   ]
  },
  {
   "cell_type": "code",
   "execution_count": 67,
   "id": "ca1372c2",
   "metadata": {},
   "outputs": [],
   "source": [
    "#changing the columns name same as songs dataset columns \n",
    "for x,y in zip(data_MSD_features,temp_name):\n",
    "    user_profile = user_profile.withColumnRenamed(y,x)"
   ]
  },
  {
   "cell_type": "code",
   "execution_count": 68,
   "id": "7139a478",
   "metadata": {},
   "outputs": [
    {
     "data": {
      "text/plain": [
       "['userId',\n",
       " 'duration',\n",
       " 'key',\n",
       " 'loudness',\n",
       " 'mode',\n",
       " 'tempo',\n",
       " 'time_signature',\n",
       " 'artist_hotttnesss',\n",
       " 'artist_familiarity']"
      ]
     },
     "execution_count": 68,
     "metadata": {},
     "output_type": "execute_result"
    }
   ],
   "source": [
    "user_profile.columns"
   ]
  },
  {
   "cell_type": "code",
   "execution_count": 69,
   "id": "670d3c03",
   "metadata": {},
   "outputs": [],
   "source": [
    "# add a column to store the sum of feature for each user \n",
    "user_profile= user_profile.withColumn('sum', sum(user_profile[col] for col in data_MSD_features ))\n",
    "\n",
    "# calculate the user interest probability to each feature (feature_value / sum of the value of all features) \n",
    "for x in data_MSD_features:\n",
    "    user_profile= user_profile.withColumn(x, col(x)/col('sum'))"
   ]
  },
  {
   "cell_type": "code",
   "execution_count": 70,
   "id": "95ed28f8",
   "metadata": {},
   "outputs": [
    {
     "data": {
      "text/plain": [
       "['userId',\n",
       " 'duration',\n",
       " 'key',\n",
       " 'loudness',\n",
       " 'mode',\n",
       " 'tempo',\n",
       " 'time_signature',\n",
       " 'artist_hotttnesss',\n",
       " 'artist_familiarity',\n",
       " 'sum']"
      ]
     },
     "execution_count": 70,
     "metadata": {},
     "output_type": "execute_result"
    }
   ],
   "source": [
    "user_profile.columns"
   ]
  },
  {
   "cell_type": "code",
   "execution_count": 71,
   "id": "908b3d30",
   "metadata": {},
   "outputs": [],
   "source": [
    "user_profile = user_profile.drop('sum')"
   ]
  },
  {
   "cell_type": "code",
   "execution_count": 72,
   "id": "c3a682c4",
   "metadata": {},
   "outputs": [
    {
     "data": {
      "text/plain": [
       "['userId',\n",
       " 'duration',\n",
       " 'key',\n",
       " 'loudness',\n",
       " 'mode',\n",
       " 'tempo',\n",
       " 'time_signature',\n",
       " 'artist_hotttnesss',\n",
       " 'artist_familiarity']"
      ]
     },
     "execution_count": 72,
     "metadata": {},
     "output_type": "execute_result"
    }
   ],
   "source": [
    "user_profile.columns"
   ]
  },
  {
   "cell_type": "code",
   "execution_count": 73,
   "id": "5c1d6bda",
   "metadata": {},
   "outputs": [
    {
     "data": {
      "text/plain": [
       "DataFrame[userId: string, duration: double, key: double, loudness: double, mode: double, tempo: double, time_signature: double, artist_hotttnesss: double, artist_familiarity: double]"
      ]
     },
     "execution_count": 73,
     "metadata": {},
     "output_type": "execute_result"
    }
   ],
   "source": [
    "user_profile.persist()"
   ]
  },
  {
   "cell_type": "markdown",
   "id": "46bb935e",
   "metadata": {},
   "source": [
    "#### Store user profile data model as CSV: "
   ]
  },
  {
   "cell_type": "code",
   "execution_count": 178,
   "id": "dfe0d6a0",
   "metadata": {},
   "outputs": [],
   "source": [
    "user_profile.toPandas().to_csv(\"user_profile.csv\", header=True)"
   ]
  },
  {
   "cell_type": "code",
   "execution_count": null,
   "id": "119820ff",
   "metadata": {},
   "outputs": [],
   "source": []
  },
  {
   "cell_type": "markdown",
   "id": "c97e73a7",
   "metadata": {},
   "source": [
    "The user profile is created based on songs he/she played!! \n",
    "\n",
    "<b>Now everything is ready to evaluate most similar songs for each user by Cosine distances(Cosine similarity) </b>"
   ]
  },
  {
   "cell_type": "markdown",
   "id": "169e9741",
   "metadata": {},
   "source": [
    "### 3.1.3 Cosine Similarity:  "
   ]
  },
  {
   "cell_type": "code",
   "execution_count": 179,
   "id": "55a117db",
   "metadata": {},
   "outputs": [],
   "source": [
    "# put all features into a dense vector for both songs and user profiles\n",
    "\n",
    "assembler1 = VectorAssembler(inputCols=['duration', 'key', 'loudness',\n",
    "                                        'mode', 'tempo', 'time_signature',\n",
    "                                        'artist_hotttnesss', 'artist_familiarity'],outputCol='Ufeatures')\n",
    "\n",
    "assembler2 = VectorAssembler(inputCols=['duration', 'key', 'loudness',\n",
    "                                        'mode', 'tempo', 'time_signature',\n",
    "                                        'artist_hotttnesss', 'artist_familiarity'],outputCol='Sfeatures')\n"
   ]
  },
  {
   "cell_type": "code",
   "execution_count": 180,
   "id": "93007151",
   "metadata": {},
   "outputs": [],
   "source": [
    "df1 = assembler1.transform(user_profile).select('userId', 'Ufeatures')"
   ]
  },
  {
   "cell_type": "code",
   "execution_count": 181,
   "id": "54862dc3",
   "metadata": {},
   "outputs": [],
   "source": [
    "df2 = assembler2.transform(data_MSD_scaled).select('song_id', 'Sfeatures')"
   ]
  },
  {
   "cell_type": "code",
   "execution_count": 182,
   "id": "65aa117b",
   "metadata": {},
   "outputs": [],
   "source": [
    "# Join df1 and df2 dataframe in order to compare each user profile with each song\n",
    "# So for each userId we have all songs  \n",
    "df = df1.crossJoin(df2)"
   ]
  },
  {
   "cell_type": "code",
   "execution_count": 183,
   "id": "52e575f0",
   "metadata": {},
   "outputs": [
    {
     "data": {
      "text/plain": [
       "['userId', 'Ufeatures', 'song_id', 'Sfeatures']"
      ]
     },
     "execution_count": 183,
     "metadata": {},
     "output_type": "execute_result"
    }
   ],
   "source": [
    "df.columns"
   ]
  },
  {
   "cell_type": "code",
   "execution_count": 185,
   "id": "a4815630",
   "metadata": {},
   "outputs": [],
   "source": [
    "# create a new train df and change the name of userId column to 'ui' to be able to \n",
    "train = train_imp_data.select('userId','songId').withColumnRenamed('userId','ui')"
   ]
  },
  {
   "cell_type": "code",
   "execution_count": 186,
   "id": "167719da",
   "metadata": {},
   "outputs": [],
   "source": [
    "#defining a multiple condition for join\n",
    "cond=[df.userId == train.ui, df.song_id == train.songId]"
   ]
  },
  {
   "cell_type": "code",
   "execution_count": 188,
   "id": "ef6367e7",
   "metadata": {},
   "outputs": [],
   "source": [
    "result = df.join(train,cond ,'leftanti')"
   ]
  },
  {
   "cell_type": "code",
   "execution_count": 189,
   "id": "834df1b3",
   "metadata": {},
   "outputs": [],
   "source": [
    "# Get cosine similarity\n",
    "result = result.rdd.map(lambda x: (x['userId'], x['song_id'],\n",
    "                               float(cosine_similarity([x['Ufeatures']],\n",
    "                                                       [x['Sfeatures']])[0,0]))).toDF(schema=['userId', 'song_id', 'cosine_similarity'])\n"
   ]
  },
  {
   "cell_type": "code",
   "execution_count": 190,
   "id": "c084f2c7",
   "metadata": {},
   "outputs": [],
   "source": [
    "#sorting the result by cosine_similarity per each user\n",
    "window = Window.partitionBy(result['userId']).orderBy(result['cosine_similarity'].desc())"
   ]
  },
  {
   "cell_type": "code",
   "execution_count": 191,
   "id": "f43552a8",
   "metadata": {},
   "outputs": [],
   "source": [
    "#selecting n most relevent songs for each user\n",
    "n = 10\n",
    "predict_top_nSong = result.select('*', rank().over(window).alias('rank')).filter(col('rank') <= n)\n"
   ]
  },
  {
   "cell_type": "code",
   "execution_count": 192,
   "id": "0cce70b4",
   "metadata": {},
   "outputs": [
    {
     "data": {
      "text/plain": [
       "DataFrame[userId: string, song_id: string, cosine_similarity: double, rank: int]"
      ]
     },
     "execution_count": 192,
     "metadata": {},
     "output_type": "execute_result"
    }
   ],
   "source": [
    "predict_top_nSong.persist()"
   ]
  },
  {
   "cell_type": "code",
   "execution_count": 193,
   "id": "bc71eb89",
   "metadata": {
    "scrolled": true
   },
   "outputs": [
    {
     "name": "stdout",
     "output_type": "stream",
     "text": [
      "+--------------------+------------------+------------------+----+\n",
      "|              userId|           song_id| cosine_similarity|rank|\n",
      "+--------------------+------------------+------------------+----+\n",
      "|0359ab58a65430dd7...|SOIEAJT12A8AE458EC|0.9782267126569764|   1|\n",
      "|0359ab58a65430dd7...|SODHTCY12A58A7F125|0.9775481960502393|   2|\n",
      "|0359ab58a65430dd7...|SOAOPVN12AAF3B1856|0.9757378255362639|   3|\n",
      "|0359ab58a65430dd7...|SOHKNRJ12A6701D1F8|0.9754747604252393|   4|\n",
      "|0359ab58a65430dd7...|SOPPCXM12A6D4F66BC|0.9753965499397119|   5|\n",
      "|0359ab58a65430dd7...|SOJBYGW12A8C13A497|0.9753614136521936|   6|\n",
      "|0359ab58a65430dd7...|SOYEDIE12A8C142C36|0.9750551760414174|   7|\n",
      "|0359ab58a65430dd7...|SOULIKU12A58A78CE2|  0.97487902678679|   8|\n",
      "|0359ab58a65430dd7...|SOKZCJC12AF72A8C79|0.9747497714968003|   9|\n",
      "|0359ab58a65430dd7...|SOHKXAC12A58A7F6E5|0.9738602569837279|  10|\n",
      "|0486147ef9c026213...|SODMJKG12A670202EB|   0.9721507471084|   1|\n",
      "|0486147ef9c026213...|SOJMQQX12AB0185046|0.9715028110137298|   2|\n",
      "|0486147ef9c026213...|SOIRCEO12A8C134D85|0.9713101301056071|   3|\n",
      "|0486147ef9c026213...|SOLLXZJ12A6D4F96B0|0.9710945807537237|   4|\n",
      "|0486147ef9c026213...|SOWJCAE12AC46887E7|0.9710365190370711|   5|\n",
      "|0486147ef9c026213...|SODPNRD12AB017FB2F|0.9708743522168042|   6|\n",
      "|0486147ef9c026213...|SOIARWN12AF72A5A63|0.9707851495299543|   7|\n",
      "|0486147ef9c026213...|SOOHUOU12A8C1399A5|0.9706505479420702|   8|\n",
      "|0486147ef9c026213...|SOQMDJS12A8C138341|0.9705823830685647|   9|\n",
      "|0486147ef9c026213...|SOKHRQI12A8C13F53E| 0.970529742935179|  10|\n",
      "+--------------------+------------------+------------------+----+\n",
      "only showing top 20 rows\n",
      "\n"
     ]
    }
   ],
   "source": [
    "predict_top_nSong.show()"
   ]
  },
  {
   "cell_type": "code",
   "execution_count": 212,
   "id": "82523155",
   "metadata": {},
   "outputs": [
    {
     "name": "stdout",
     "output_type": "stream",
     "text": [
      "+-------+--------------------+------------------+--------------------+-----------------+\n",
      "|summary|              userId|           song_id|   cosine_similarity|             rank|\n",
      "+-------+--------------------+------------------+--------------------+-----------------+\n",
      "|  count|              228361|            228361|              228361|           228361|\n",
      "|   mean|                null|              null|  0.9879646869997364|5.499967157264156|\n",
      "| stddev|                null|              null|0.010100157605710699|2.872313529858836|\n",
      "|    min|0000f88f8d76a238c...|SOAAAQN12AB01856D3|   0.954820505706391|                1|\n",
      "|    max|ffff6f29052de81f5...|SOZZWWW12A58A8146A|  0.9999345849584005|               10|\n",
      "+-------+--------------------+------------------+--------------------+-----------------+\n",
      "\n"
     ]
    }
   ],
   "source": [
    "predict_top_nSong.describe().show()"
   ]
  },
  {
   "cell_type": "markdown",
   "id": "2b4c1dcd",
   "metadata": {},
   "source": [
    "### Store predict_top_nSong data model as CSV"
   ]
  },
  {
   "cell_type": "code",
   "execution_count": 217,
   "id": "74742cb4",
   "metadata": {},
   "outputs": [],
   "source": [
    "predict_top_nSong.toPandas().to_csv(\"CB_10Songs.csv\", header=True)\n"
   ]
  },
  {
   "cell_type": "code",
   "execution_count": 213,
   "id": "f510bdf8",
   "metadata": {},
   "outputs": [
    {
     "data": {
      "text/plain": [
       "22836"
      ]
     },
     "execution_count": 213,
     "metadata": {},
     "output_type": "execute_result"
    }
   ],
   "source": [
    "user_profile.count()"
   ]
  },
  {
   "cell_type": "code",
   "execution_count": 211,
   "id": "c2c5a023",
   "metadata": {},
   "outputs": [
    {
     "data": {
      "text/plain": [
       "30607"
      ]
     },
     "execution_count": 211,
     "metadata": {},
     "output_type": "execute_result"
    }
   ],
   "source": [
    "test_imp_data.count()"
   ]
  },
  {
   "cell_type": "code",
   "execution_count": 209,
   "id": "7e1f7803",
   "metadata": {},
   "outputs": [
    {
     "data": {
      "text/plain": [
       "228361"
      ]
     },
     "execution_count": 209,
     "metadata": {},
     "output_type": "execute_result"
    }
   ],
   "source": [
    "predict_top_nSong.count()"
   ]
  },
  {
   "cell_type": "markdown",
   "id": "d05cbf22",
   "metadata": {},
   "source": [
    "### Calculating F1: "
   ]
  },
  {
   "cell_type": "markdown",
   "id": "2e509f51",
   "metadata": {},
   "source": [
    "For each user we have n songs recommended. For F1 score we have: \n",
    "\n",
    "- <b>Precision</b> =  items in common with test and @ n songs recommended(TP) / number of songs in recommendder\n",
    "\n",
    "- <b>Recall</b> =  items in common with test and @ n songs recommended(TP) / number of songs in test \n",
    "\n",
    "- <b>F1</b> = 2*(Precision*Recall)/(Precision+Recall) "
   ]
  },
  {
   "cell_type": "code",
   "execution_count": 219,
   "id": "d9b09b0e",
   "metadata": {},
   "outputs": [],
   "source": [
    "conditions = [ test_imp_data.userId == predict_top_nSong.userId , test_imp_data.songId == predict_top_nSong.song_id ]\n",
    "TP = test_imp_data\n",
    "TP = TP.join(predict_top_nSong , conditions, \"leftsemi\").count()"
   ]
  },
  {
   "cell_type": "code",
   "execution_count": 220,
   "id": "8ae81c0b",
   "metadata": {},
   "outputs": [],
   "source": [
    "nom_of_song_test = test_imp_data.count()\n",
    "nom_of_song_predicted = predict_top_nSong.count()\n",
    "precision = (TP / nom_of_song_predicted)\n",
    "recall = (TP / nom_of_song_test)\n",
    "F1 = 2 * (precision * recall)/(precision + recall)"
   ]
  },
  {
   "cell_type": "code",
   "execution_count": 222,
   "id": "623d7aea",
   "metadata": {},
   "outputs": [
    {
     "name": "stdout",
     "output_type": "stream",
     "text": [
      "Precision:  0.001703443232425852\n",
      "recall:  0.012709510896200215\n",
      "F1:  0.003004232183126873\n"
     ]
    }
   ],
   "source": [
    "print('Precision: ', precision)\n",
    "print('recall: ', recall)\n",
    "print('F1: ', F1)"
   ]
  },
  {
   "cell_type": "markdown",
   "id": "186da9c1",
   "metadata": {},
   "source": [
    "#### Calculating RMSE: "
   ]
  },
  {
   "cell_type": "code",
   "execution_count": 223,
   "id": "997c4726",
   "metadata": {},
   "outputs": [],
   "source": [
    "#### Calculating RMSE: \n",
    "\n",
    "temp = result \n",
    "conditions = [temp.userId == test_imp_data.userId , temp.song_id == test_imp_data.songId]\n",
    "pred_cosine_test = temp.join(test_imp_data, conditions, \"leftsemi\")\n",
    "pred_cosine_test = pred_cosine_test.select('userId', 'songId', 'play_count')\n",
    "\n",
    "df = pred_cosine_test\n",
    "N = df.count() \n",
    "rmse = math.sqrt(df.withColumn(\"sqrderr\", pow(1-df.col(\"cosine_similarity\"), 2)).select(mean(\"sqrderr\"))).collect()\n",
    "\n",
    "print(\"RMSE = \", str(rmse/N))#### Calculating RMSE: \n",
    "\n",
    "#### Calculating RMSE: \n",
    "\n",
    "temp = result \n",
    "conditions = [temp.userId == test_imp_data.userId , temp.song_id == test_imp_data.songId]\n",
    "pred_cosine_test = temp.join(test_imp_data, conditions, \"leftsemi\")\n",
    "pred_cosine_test = pred_cosine_test.select('userId', 'songId', 'play_count')\n",
    "\n",
    "df = pred_cosine_test\n",
    "N = df.count() \n",
    "rmse = math.sqrt(df.withColumn(\"sqrderr\", pow(1-df.col(\"cosine_similarity\"), 2)).select(mean(\"sqrderr\"))).collect()\n",
    "\n",
    "print(\"RMSE = \", str(rmse/N))_cosine_test = pred_cosine_test.select('userId', 'songId', 'play_count')\n",
    "\n",
    "df = pred_cosine_test\n",
    "N = df.count() \n",
    "rmse = math.sqrt(df.withColumn(\"sqrderr\", pow(1-df.col(\"cosine_similarity\"), 2)).select(mean(\"sqrderr\"))).collect()\n",
    "\n",
    "print(\"RMSE = \", str(rmse/N))_cosine_test = pred_cosine_test.select('userId', 'songId', 'play_count')"
   ]
  },
  {
   "cell_type": "code",
   "execution_count": 224,
   "id": "74baa1af",
   "metadata": {},
   "outputs": [],
   "source": [
    "df = pred_cosine_test\n",
    "N = df.count() \n",
    "rmse = math.sqrt(df.withColumn(\"sqrderr\", pow(1-df.col(\"cosine_similarity\"), 2)).select(mean(\"sqrderr\"))).collect()"
   ]
  },
  {
   "cell_type": "code",
   "execution_count": 226,
   "id": "f797540b",
   "metadata": {
    "scrolled": false
   },
   "outputs": [
    {
     "name": "stdout",
     "output_type": "stream",
     "text": [
      "RMSE =  0.8958034432324259\n"
     ]
    }
   ],
   "source": [
    "print(\"RMSE = \", str(rmse/N))"
   ]
  },
  {
   "cell_type": "markdown",
   "id": "b35c78a8",
   "metadata": {},
   "source": [
    "## version 2"
   ]
  },
  {
   "cell_type": "markdown",
   "id": "17255cd6",
   "metadata": {},
   "source": [
    "### 3.1.2 Creating user_profile data model:"
   ]
  },
  {
   "cell_type": "code",
   "execution_count": 96,
   "id": "e85eef50",
   "metadata": {},
   "outputs": [],
   "source": [
    "train_CB = train_imp_data.select('userId', 'songId', 'play_count')\n",
    "train_CB2=train_CB\n",
    "test_CB2 = test_imp_data"
   ]
  },
  {
   "cell_type": "code",
   "execution_count": 97,
   "id": "dfb6c3f2",
   "metadata": {},
   "outputs": [
    {
     "data": {
      "text/plain": [
       "['userId', 'songId', 'play_count']"
      ]
     },
     "execution_count": 97,
     "metadata": {},
     "output_type": "execute_result"
    }
   ],
   "source": [
    "train_CB2.columns"
   ]
  },
  {
   "cell_type": "code",
   "execution_count": 98,
   "id": "e89df96b",
   "metadata": {},
   "outputs": [],
   "source": [
    "# add labels based on average \n",
    "# calculate average number of playes for each user \n",
    "play_avg = train_CB2.groupby('userId').avg('play_count')"
   ]
  },
  {
   "cell_type": "code",
   "execution_count": 99,
   "id": "0315b7c5",
   "metadata": {},
   "outputs": [],
   "source": [
    "temp = train_CB2\n",
    "user_song_average_train = temp.join(play_avg,'userId')"
   ]
  },
  {
   "cell_type": "code",
   "execution_count": 100,
   "id": "7eebfd62",
   "metadata": {},
   "outputs": [],
   "source": [
    "user_song_average_train = user_song_average_train.withColumn(\"label\", F.when(F.col(\"play_count\") >= F.col(\"avg(play_count)\"),1).otherwise(0))"
   ]
  },
  {
   "cell_type": "code",
   "execution_count": 101,
   "id": "333c5f1c",
   "metadata": {},
   "outputs": [],
   "source": [
    "temp = test_CB2.select('userId', 'songId', 'play_count')\n",
    "user_song_average_test = temp.join(play_avg,'userId')"
   ]
  },
  {
   "cell_type": "code",
   "execution_count": 102,
   "id": "8de88910",
   "metadata": {},
   "outputs": [],
   "source": [
    "user_song_average_test = user_song_average_test.withColumn(\"label\", F.when(F.col(\"play_count\") >= F.col(\"avg(play_count)\"),1).otherwise(0))"
   ]
  },
  {
   "cell_type": "code",
   "execution_count": 103,
   "id": "ed23e8dc",
   "metadata": {},
   "outputs": [
    {
     "data": {
      "text/plain": [
       "['userId', 'songId', 'play_count', 'avg(play_count)', 'label']"
      ]
     },
     "execution_count": 103,
     "metadata": {},
     "output_type": "execute_result"
    }
   ],
   "source": [
    "user_song_average_train.columns"
   ]
  },
  {
   "cell_type": "code",
   "execution_count": 104,
   "id": "1593da12",
   "metadata": {},
   "outputs": [
    {
     "data": {
      "text/plain": [
       "['userId', 'songId', 'play_count', 'avg(play_count)', 'label']"
      ]
     },
     "execution_count": 104,
     "metadata": {},
     "output_type": "execute_result"
    }
   ],
   "source": [
    "user_song_average_test.columns"
   ]
  },
  {
   "cell_type": "code",
   "execution_count": 78,
   "id": "f84622ee",
   "metadata": {},
   "outputs": [
    {
     "name": "stdout",
     "output_type": "stream",
     "text": [
      "+--------------------+------------------+----------+------------------+-----+\n",
      "|              userId|            songId|play_count|   avg(play_count)|label|\n",
      "+--------------------+------------------+----------+------------------+-----+\n",
      "|0359ab58a65430dd7...|SORJVDO12AF72A1970|         7|3.2857142857142856|    1|\n",
      "|0359ab58a65430dd7...|SOIZLKI12A6D4F7B61|         5|3.2857142857142856|    1|\n",
      "|0359ab58a65430dd7...|SOJCBAM12A6701FD04|         1|3.2857142857142856|    0|\n",
      "|0359ab58a65430dd7...|SOTEFFR12A8C144765|         6|3.2857142857142856|    1|\n",
      "|0359ab58a65430dd7...|SOPFURM12A67020D2A|         1|3.2857142857142856|    0|\n",
      "|0359ab58a65430dd7...|SONRIJJ12A6701FD0A|         1|3.2857142857142856|    0|\n",
      "|0359ab58a65430dd7...|SOWEUOO12A6D4F6D0C|         2|3.2857142857142856|    0|\n",
      "|0486147ef9c026213...|SOBJCMO12A6D4F756F|         1|1.6666666666666667|    0|\n",
      "|0486147ef9c026213...|SOBMNXE12A8C140F8A|         1|1.6666666666666667|    0|\n",
      "|0486147ef9c026213...|SOPGSBP12A6701F741|         1|1.6666666666666667|    0|\n",
      "|0486147ef9c026213...|SOSKUNI12AB0187F12|         1|1.6666666666666667|    0|\n",
      "|0486147ef9c026213...|SOBTEHX12A6D4FBF18|         1|1.6666666666666667|    0|\n",
      "|0486147ef9c026213...|SOLTIVF12AAFF43797|         1|1.6666666666666667|    0|\n",
      "|0486147ef9c026213...|SOIAQFI12AF729E236|         1|1.6666666666666667|    0|\n",
      "|0486147ef9c026213...|SOESALW12A6D4F7BBD|         7|1.6666666666666667|    1|\n",
      "+--------------------+------------------+----------+------------------+-----+\n",
      "only showing top 15 rows\n",
      "\n"
     ]
    }
   ],
   "source": [
    "user_song_average_train.show(15)"
   ]
  },
  {
   "cell_type": "code",
   "execution_count": 79,
   "id": "1b3db6dd",
   "metadata": {},
   "outputs": [
    {
     "name": "stdout",
     "output_type": "stream",
     "text": [
      "+--------------------+------------------+----------+------------------+-----+\n",
      "|              userId|            songId|play_count|   avg(play_count)|label|\n",
      "+--------------------+------------------+----------+------------------+-----+\n",
      "|0359ab58a65430dd7...|SOEKSGJ12A67AE227E|         2|3.2857142857142856|    0|\n",
      "|0486147ef9c026213...|SOCXWEG12A6D4FBEA3|         1|1.6666666666666667|    0|\n",
      "|0486147ef9c026213...|SOTXXBT12A6D4F6B25|         1|1.6666666666666667|    0|\n",
      "|07e62756f710c6a69...|SODTTUB12AB0184F48|         1|17.272727272727273|    0|\n",
      "|0af944c051730d2c2...|SOIGZOE12AB017F37D|         7|1.8333333333333333|    1|\n",
      "+--------------------+------------------+----------+------------------+-----+\n",
      "only showing top 5 rows\n",
      "\n"
     ]
    }
   ],
   "source": [
    "user_song_average_test.show(5)"
   ]
  },
  {
   "cell_type": "code",
   "execution_count": 105,
   "id": "746392ed",
   "metadata": {},
   "outputs": [],
   "source": [
    "data_MSD_features = ['duration',\n",
    "                     'key', \n",
    "                     'loudness',\n",
    "                     'mode',\n",
    "                     'tempo',\n",
    "                     'time_signature',\n",
    "                     'artist_hotttnesss', \n",
    "                     'artist_familiarity']"
   ]
  },
  {
   "cell_type": "code",
   "execution_count": 106,
   "id": "6f603955",
   "metadata": {},
   "outputs": [],
   "source": [
    "user_profile2 = user_song_average_train.filter(col('label')== 1)"
   ]
  },
  {
   "cell_type": "code",
   "execution_count": 107,
   "id": "b32a6225",
   "metadata": {},
   "outputs": [
    {
     "name": "stdout",
     "output_type": "stream",
     "text": [
      "+--------------------+------------------+----------+------------------+-----+\n",
      "|              userId|            songId|play_count|   avg(play_count)|label|\n",
      "+--------------------+------------------+----------+------------------+-----+\n",
      "|0359ab58a65430dd7...|SORJVDO12AF72A1970|         7|3.2857142857142856|    1|\n",
      "|0359ab58a65430dd7...|SOIZLKI12A6D4F7B61|         5|3.2857142857142856|    1|\n",
      "|0359ab58a65430dd7...|SOTEFFR12A8C144765|         6|3.2857142857142856|    1|\n",
      "|0486147ef9c026213...|SOESALW12A6D4F7BBD|         7|1.6666666666666667|    1|\n",
      "|07e62756f710c6a69...|SOIZLKI12A6D4F7B61|        21|17.272727272727273|    1|\n",
      "+--------------------+------------------+----------+------------------+-----+\n",
      "only showing top 5 rows\n",
      "\n"
     ]
    }
   ],
   "source": [
    "user_profile2.show(5)"
   ]
  },
  {
   "cell_type": "code",
   "execution_count": 108,
   "id": "2808a806",
   "metadata": {},
   "outputs": [],
   "source": [
    "# add features of each song based on song_id from data_MSD dataset to the implicit rating test dataset(user-song-plays)\n",
    "user_profile2 = user_profile2.join(data_MSD_scaled, data_MSD_scaled.song_id == user_profile2.songId )"
   ]
  },
  {
   "cell_type": "code",
   "execution_count": 109,
   "id": "56045830",
   "metadata": {},
   "outputs": [],
   "source": [
    "user_profile2 = user_profile2.drop('song_id','title','artist_id')"
   ]
  },
  {
   "cell_type": "code",
   "execution_count": 110,
   "id": "9872225a",
   "metadata": {},
   "outputs": [
    {
     "data": {
      "text/plain": [
       "['userId',\n",
       " 'songId',\n",
       " 'play_count',\n",
       " 'avg(play_count)',\n",
       " 'label',\n",
       " 'duration',\n",
       " 'key',\n",
       " 'loudness',\n",
       " 'mode',\n",
       " 'tempo',\n",
       " 'time_signature',\n",
       " 'artist_hotttnesss',\n",
       " 'artist_familiarity']"
      ]
     },
     "execution_count": 110,
     "metadata": {},
     "output_type": "execute_result"
    }
   ],
   "source": [
    "user_profile2.columns"
   ]
  },
  {
   "cell_type": "code",
   "execution_count": 111,
   "id": "c5971348",
   "metadata": {},
   "outputs": [
    {
     "name": "stdout",
     "output_type": "stream",
     "text": [
      "+--------------------+------------------+----------+------------------+-----+-------------------+-------------------+------------------+----+------------------+-------------------+-------------------+------------------+\n",
      "|              userId|            songId|play_count|   avg(play_count)|label|           duration|                key|          loudness|mode|             tempo|     time_signature|  artist_hotttnesss|artist_familiarity|\n",
      "+--------------------+------------------+----------+------------------+-----+-------------------+-------------------+------------------+----+------------------+-------------------+-------------------+------------------+\n",
      "|0359ab58a65430dd7...|SORJVDO12AF72A1970|         7|3.2857142857142856|    1|0.16270486591302885|0.18181818181818182|0.8961864828611346| 0.0|0.4875203603012791| 0.5714285714285714| 0.6932330032189183|0.9290302991867065|\n",
      "|0359ab58a65430dd7...|SOIZLKI12A6D4F7B61|         5|3.2857142857142856|    1| 0.1145311181553525| 0.6363636363636364|0.9257024682717757| 1.0|0.4566104098440983| 0.5714285714285714| 0.6932330032189183|0.9290302991867065|\n",
      "|0359ab58a65430dd7...|SOTEFFR12A8C144765|         6|3.2857142857142856|    1|0.12320640946940183|                1.0| 0.897067557052497| 0.0|0.5126318049386764|0.14285714285714285| 0.7657314587327615|0.9184517860412598|\n",
      "|0486147ef9c026213...|SOESALW12A6D4F7BBD|         7|1.6666666666666667|    1|   0.11026528949063| 0.6363636363636364|0.9341875966045257| 0.0|0.6961853492218383| 0.5714285714285714|0.48033646121605295|0.8732386231422424|\n",
      "|07e62756f710c6a69...|SOIZLKI12A6D4F7B61|        21|17.272727272727273|    1| 0.1145311181553525| 0.6363636363636364|0.9257024682717757| 1.0|0.4566104098440983| 0.5714285714285714| 0.6932330032189183|0.9290302991867065|\n",
      "+--------------------+------------------+----------+------------------+-----+-------------------+-------------------+------------------+----+------------------+-------------------+-------------------+------------------+\n",
      "only showing top 5 rows\n",
      "\n"
     ]
    }
   ],
   "source": [
    "user_profile2.show(5)"
   ]
  },
  {
   "cell_type": "code",
   "execution_count": 112,
   "id": "742ac66b",
   "metadata": {},
   "outputs": [
    {
     "data": {
      "text/plain": [
       "['song_id',\n",
       " 'title',\n",
       " 'artist_id',\n",
       " 'duration',\n",
       " 'key',\n",
       " 'loudness',\n",
       " 'mode',\n",
       " 'tempo',\n",
       " 'time_signature',\n",
       " 'artist_hotttnesss',\n",
       " 'artist_familiarity']"
      ]
     },
     "execution_count": 112,
     "metadata": {},
     "output_type": "execute_result"
    }
   ],
   "source": [
    "data_MSD_scaled.columns"
   ]
  },
  {
   "cell_type": "code",
   "execution_count": 113,
   "id": "af94b49c",
   "metadata": {},
   "outputs": [],
   "source": [
    "# calculate the product of each feature with play_count column  \n",
    "for x in data_MSD_features:\n",
    "    user_profile2 = user_profile2.withColumn(x, col(x)*col('play_count'))\n",
    "    \n",
    "user_profile2 = user_profile2.groupby('userId').sum('duration',\n",
    "                                                  'key', \n",
    "                                                  'loudness',\n",
    "                                                  'mode',\n",
    "                                                  'tempo',\n",
    "                                                  'time_signature',\n",
    "                                                  'artist_hotttnesss', \n",
    "                                                  'artist_familiarity')"
   ]
  },
  {
   "cell_type": "code",
   "execution_count": 114,
   "id": "8585c90f",
   "metadata": {},
   "outputs": [],
   "source": [
    "#changing the columns name same as songs dataset columns \n",
    "for x,y in zip(data_MSD_features,temp_name):\n",
    "    \n",
    "    user_profile2 = user_profile2.withColumnRenamed(y,x)"
   ]
  },
  {
   "cell_type": "code",
   "execution_count": 115,
   "id": "0eb0dd47",
   "metadata": {},
   "outputs": [
    {
     "data": {
      "text/plain": [
       "['userId',\n",
       " 'duration',\n",
       " 'key',\n",
       " 'loudness',\n",
       " 'mode',\n",
       " 'tempo',\n",
       " 'time_signature',\n",
       " 'artist_hotttnesss',\n",
       " 'artist_familiarity']"
      ]
     },
     "execution_count": 115,
     "metadata": {},
     "output_type": "execute_result"
    }
   ],
   "source": [
    "user_profile2.columns"
   ]
  },
  {
   "cell_type": "code",
   "execution_count": 116,
   "id": "044c8b6c",
   "metadata": {},
   "outputs": [],
   "source": [
    "# add a column to store the sum of feature for each user \n",
    "user_profile2= user_profile2.withColumn('sum', sum(user_profile2[col] for col in data_MSD_features ))\n",
    "\n",
    "# calculate the user interest probability to each feature (feature_value / sum of the value of all features) \n",
    "for x in data_MSD_features:\n",
    "    user_profile2= user_profile2.withColumn(x, col(x)/col('sum'))"
   ]
  },
  {
   "cell_type": "code",
   "execution_count": 117,
   "id": "b22a4c2b",
   "metadata": {},
   "outputs": [
    {
     "data": {
      "text/plain": [
       "['userId',\n",
       " 'duration',\n",
       " 'key',\n",
       " 'loudness',\n",
       " 'mode',\n",
       " 'tempo',\n",
       " 'time_signature',\n",
       " 'artist_hotttnesss',\n",
       " 'artist_familiarity',\n",
       " 'sum']"
      ]
     },
     "execution_count": 117,
     "metadata": {},
     "output_type": "execute_result"
    }
   ],
   "source": [
    "user_profile2.columns"
   ]
  },
  {
   "cell_type": "code",
   "execution_count": 118,
   "id": "695bdc96",
   "metadata": {},
   "outputs": [],
   "source": [
    "user_profile2 = user_profile2.drop('sum')"
   ]
  },
  {
   "cell_type": "code",
   "execution_count": 119,
   "id": "c430c892",
   "metadata": {},
   "outputs": [
    {
     "data": {
      "text/plain": [
       "['userId',\n",
       " 'duration',\n",
       " 'key',\n",
       " 'loudness',\n",
       " 'mode',\n",
       " 'tempo',\n",
       " 'time_signature',\n",
       " 'artist_hotttnesss',\n",
       " 'artist_familiarity']"
      ]
     },
     "execution_count": 119,
     "metadata": {},
     "output_type": "execute_result"
    }
   ],
   "source": [
    "user_profile2.columns"
   ]
  },
  {
   "cell_type": "code",
   "execution_count": 120,
   "id": "06e9323e",
   "metadata": {},
   "outputs": [
    {
     "data": {
      "text/plain": [
       "DataFrame[userId: string, duration: double, key: double, loudness: double, mode: double, tempo: double, time_signature: double, artist_hotttnesss: double, artist_familiarity: double]"
      ]
     },
     "execution_count": 120,
     "metadata": {},
     "output_type": "execute_result"
    }
   ],
   "source": [
    "user_profile2.persist()"
   ]
  },
  {
   "cell_type": "markdown",
   "id": "9e6222c3",
   "metadata": {},
   "source": [
    "#### Store user profile data model as CSV: "
   ]
  },
  {
   "cell_type": "code",
   "execution_count": 98,
   "id": "dac03697",
   "metadata": {},
   "outputs": [],
   "source": [
    "user_profile2.toPandas().to_csv(\"user_profile2.csv\", header=True)"
   ]
  },
  {
   "cell_type": "markdown",
   "id": "f026f0d5",
   "metadata": {},
   "source": [
    "### 3.1.3 Cosine Similarity:  "
   ]
  },
  {
   "cell_type": "code",
   "execution_count": 121,
   "id": "f423bf09",
   "metadata": {},
   "outputs": [],
   "source": [
    "# put all features into a dense vector for both songs and user profiles\n",
    "\n",
    "assembler1 = VectorAssembler(inputCols=['duration', 'key', 'loudness',\n",
    "                                        'mode', 'tempo', 'time_signature',\n",
    "                                        'artist_hotttnesss', 'artist_familiarity'],outputCol='Ufeatures')\n",
    "\n",
    "assembler2 = VectorAssembler(inputCols=['duration', 'key', 'loudness',\n",
    "                                        'mode', 'tempo', 'time_signature',\n",
    "                                        'artist_hotttnesss', 'artist_familiarity'],outputCol='Sfeatures')\n"
   ]
  },
  {
   "cell_type": "code",
   "execution_count": 122,
   "id": "d6da7544",
   "metadata": {},
   "outputs": [],
   "source": [
    "df1 = assembler1.transform(user_profile2).select('userId', 'Ufeatures')"
   ]
  },
  {
   "cell_type": "code",
   "execution_count": 123,
   "id": "b4d3366a",
   "metadata": {},
   "outputs": [],
   "source": [
    "df2 = assembler2.transform(data_MSD_scaled).select('song_id', 'Sfeatures')"
   ]
  },
  {
   "cell_type": "code",
   "execution_count": 124,
   "id": "ae3047ef",
   "metadata": {},
   "outputs": [],
   "source": [
    "# Join df1 and df2 dataframe in order to compare each user profile with each song\n",
    "# So for each userId we have all songs  \n",
    "df = df1.crossJoin(df2)"
   ]
  },
  {
   "cell_type": "code",
   "execution_count": 125,
   "id": "49f2a4c2",
   "metadata": {},
   "outputs": [
    {
     "data": {
      "text/plain": [
       "['userId', 'Ufeatures', 'song_id', 'Sfeatures']"
      ]
     },
     "execution_count": 125,
     "metadata": {},
     "output_type": "execute_result"
    }
   ],
   "source": [
    "df.columns"
   ]
  },
  {
   "cell_type": "code",
   "execution_count": 126,
   "id": "67bdf16a",
   "metadata": {},
   "outputs": [],
   "source": [
    "# create a new train df and change the name of userId column to 'ui' to be able to \n",
    "train = train_imp_data.select('userId','songId').withColumnRenamed('userId','ui')"
   ]
  },
  {
   "cell_type": "code",
   "execution_count": 127,
   "id": "236f79de",
   "metadata": {},
   "outputs": [],
   "source": [
    "#defining a multiple condition for join\n",
    "cond=[df.userId == train.ui, df.song_id == train.songId]"
   ]
  },
  {
   "cell_type": "code",
   "execution_count": 128,
   "id": "118bc8af",
   "metadata": {},
   "outputs": [],
   "source": [
    "result2 = df.join(train,cond ,'leftanti')"
   ]
  },
  {
   "cell_type": "code",
   "execution_count": 129,
   "id": "e55ddf7c",
   "metadata": {},
   "outputs": [],
   "source": [
    "# Get cosine similarity\n",
    "result2 = result2.rdd.map(lambda x: (x['userId'], x['song_id'],\n",
    "                               float(cosine_similarity([x['Ufeatures']],\n",
    "                                                       [x['Sfeatures']])[0,0]))).toDF(schema=['userId', 'song_id', 'cosine_similarity'])\n"
   ]
  },
  {
   "cell_type": "code",
   "execution_count": 130,
   "id": "8e1b398b",
   "metadata": {},
   "outputs": [],
   "source": [
    "#add 0-1 label based on cosine similarity threshold\n",
    "threshold = 0.5\n",
    "result2 = result2.withColumn(\"predicted_label\", F.when(F.col(\"cosine_similarity\") >= threshold,1).otherwise(0))"
   ]
  },
  {
   "cell_type": "code",
   "execution_count": 131,
   "id": "109cdce9",
   "metadata": {},
   "outputs": [
    {
     "data": {
      "text/plain": [
       "['userId', 'song_id', 'cosine_similarity', 'predicted_label']"
      ]
     },
     "execution_count": 131,
     "metadata": {},
     "output_type": "execute_result"
    }
   ],
   "source": [
    "result2.columns"
   ]
  },
  {
   "cell_type": "code",
   "execution_count": 139,
   "id": "f9864ff2",
   "metadata": {},
   "outputs": [
    {
     "name": "stdout",
     "output_type": "stream",
     "text": [
      "+--------------------+------------------+------------------+---------------+\n",
      "|              userId|           song_id| cosine_similarity|predicted_label|\n",
      "+--------------------+------------------+------------------+---------------+\n",
      "|0359ab58a65430dd7...|SOMZWCG12A8C13C480|0.9168492531390589|              1|\n",
      "|0359ab58a65430dd7...|SOCIWDW12A8C13D406| 0.958120390066596|              1|\n",
      "|0359ab58a65430dd7...|SOXVLOJ12AB0189215|0.8271429063796553|              1|\n",
      "+--------------------+------------------+------------------+---------------+\n",
      "only showing top 3 rows\n",
      "\n"
     ]
    }
   ],
   "source": [
    "result2.show(3)"
   ]
  },
  {
   "cell_type": "code",
   "execution_count": 132,
   "id": "1dad70bd",
   "metadata": {},
   "outputs": [],
   "source": [
    "#sorting the result by cosine_similarity per each user\n",
    "window = Window.partitionBy(result2['userId']).orderBy(result2['cosine_similarity'].desc())"
   ]
  },
  {
   "cell_type": "code",
   "execution_count": 133,
   "id": "da948413",
   "metadata": {},
   "outputs": [],
   "source": [
    "#selecting n most relevent songs for each user\n",
    "\n",
    "prediction = result2.select('*', rank().over(window).alias('rank'))\n"
   ]
  },
  {
   "cell_type": "code",
   "execution_count": null,
   "id": "061f2bac",
   "metadata": {},
   "outputs": [],
   "source": [
    "prediction.show(3)"
   ]
  },
  {
   "cell_type": "code",
   "execution_count": 134,
   "id": "f5b1aec9",
   "metadata": {},
   "outputs": [
    {
     "data": {
      "text/plain": [
       "DataFrame[userId: string, song_id: string, cosine_similarity: double, predicted_label: int, rank: int]"
      ]
     },
     "execution_count": 134,
     "metadata": {},
     "output_type": "execute_result"
    }
   ],
   "source": [
    "prediction.persist()"
   ]
  },
  {
   "cell_type": "code",
   "execution_count": 135,
   "id": "f3d85114",
   "metadata": {},
   "outputs": [],
   "source": [
    "n = 10\n",
    "top_recommendation_nSnog= prediction.filter(col('rank') <= n)"
   ]
  },
  {
   "cell_type": "code",
   "execution_count": 136,
   "id": "98327b02",
   "metadata": {},
   "outputs": [
    {
     "data": {
      "text/plain": [
       "['userId', 'songId', 'play_count', 'avg(play_count)', 'label']"
      ]
     },
     "execution_count": 136,
     "metadata": {},
     "output_type": "execute_result"
    }
   ],
   "source": [
    "user_song_average_test.columns"
   ]
  },
  {
   "cell_type": "markdown",
   "id": "43badd45",
   "metadata": {},
   "source": [
    "#### Calculating RMSE: "
   ]
  },
  {
   "cell_type": "code",
   "execution_count": 229,
   "id": "29682a17",
   "metadata": {},
   "outputs": [],
   "source": [
    "#### Calculating RMSE: \n",
    "\n",
    "temp = result \n",
    "conditions = [temp.userId == test_imp_data.userId , temp.song_id == test_imp_data.songId]\n",
    "pred_cosine_test = temp.join(test_imp_data, conditions, \"leftsemi\")\n",
    "pred_cosine_test = pred_cosine_test.select('userId', 'songId', 'play_count')\n",
    "\n",
    "df = pred_cosine_test\n",
    "N = df.count() \n",
    "rmse = math.sqrt(df.withColumn(\"sqrderr\", pow(1-df.col(\"cosine_similarity\"), 2)).select(mean(\"sqrderr\"))).collect()\n",
    "\n",
    "print(\"RMSE = \", str(rmse/N))_cosine_test = pred_cosine_test.select('userId', 'songId', 'play_count')"
   ]
  },
  {
   "cell_type": "code",
   "execution_count": 230,
   "id": "07abf1bc",
   "metadata": {},
   "outputs": [],
   "source": [
    "df = pred_cosine_test\n",
    "N = df.count() \n",
    "rmse = math.sqrt(df.withColumn(\"sqrderr\", pow(1-df.col(\"cosine_similarity\"), 2)).select(mean(\"sqrderr\"))).collect()"
   ]
  },
  {
   "cell_type": "code",
   "execution_count": 231,
   "id": "1302df8c",
   "metadata": {
    "scrolled": false
   },
   "outputs": [
    {
     "name": "stdout",
     "output_type": "stream",
     "text": [
      "RMSE =  0.7710012038714518\n"
     ]
    }
   ],
   "source": [
    "print(\"RMSE = \", str(0.7710012038714518))"
   ]
  },
  {
   "cell_type": "markdown",
   "id": "b09f741f",
   "metadata": {},
   "source": [
    "# 4. Collaborative Filtering: "
   ]
  },
  {
   "cell_type": "markdown",
   "id": "e4727c8b",
   "metadata": {},
   "source": [
    "### 4.1 Latent Factor model: \n",
    "#### 4.1.1 Train and test split with stratified sampling  method: "
   ]
  },
  {
   "cell_type": "code",
   "execution_count": 223,
   "id": "de0a0e5b",
   "metadata": {},
   "outputs": [],
   "source": [
    "# ALS Algorithm to fill null values\n",
    "# Build the recommendation model using ALS on the training data\n",
    "# Rating is implicit in our model, it is biased too, so the implicitPrefs assigned true to add biased terms to the algorithm\n",
    "# In this step we are not dealing with cold-start issues so the coldStartStrategy is droped\n",
    "\n",
    "als = ALS(maxIter=10,regParam=0.01, userCol=\"userIndex\", itemCol=\"songIndex\", ratingCol=\"play_count\",implicitPrefs = True,coldStartStrategy=\"drop\")\n"
   ]
  },
  {
   "cell_type": "code",
   "execution_count": 224,
   "id": "935e5ded",
   "metadata": {},
   "outputs": [],
   "source": [
    "model_CF = als.fit(train_imp_data)\n"
   ]
  },
  {
   "cell_type": "code",
   "execution_count": 225,
   "id": "68391c6c",
   "metadata": {},
   "outputs": [],
   "source": [
    "predictions = model_CF.transform(test_imp_data)"
   ]
  },
  {
   "cell_type": "code",
   "execution_count": 226,
   "id": "c66875c6",
   "metadata": {},
   "outputs": [
    {
     "name": "stdout",
     "output_type": "stream",
     "text": [
      "RMSE error = 4.279752515546069\n"
     ]
    }
   ],
   "source": [
    "# Evaluate the model by computing RMSE\n",
    "evaluator = RegressionEvaluator(metricName=\"rmse\", \n",
    "                                labelCol=\"play_count\",\n",
    "                                predictionCol=\"prediction\")\n",
    "rmse = evaluator.evaluate(predictions)\n",
    "print(\"RMSE error = \" + str(rmse))\n"
   ]
  },
  {
   "cell_type": "code",
   "execution_count": 228,
   "id": "e5534296",
   "metadata": {},
   "outputs": [],
   "source": [
    "# Generate top 10 songs recommendations\n",
    "userRecs = model_CF.recommendForAllUsers(10)"
   ]
  },
  {
   "cell_type": "code",
   "execution_count": 229,
   "id": "ff9e41a2",
   "metadata": {},
   "outputs": [
    {
     "name": "stdout",
     "output_type": "stream",
     "text": [
      "+---------+--------------------+\n",
      "|userIndex|     recommendations|\n",
      "+---------+--------------------+\n",
      "|     7240|[[513, 0.876827],...|\n",
      "|     7880|[[2070, 0.2594938...|\n",
      "|    57370|[[1594, 1.0294975...|\n",
      "|    65220|[[2130, 0.7208005...|\n",
      "|    94950|[[2070, 0.5884137...|\n",
      "|   111300|[[863, 0.5618871]...|\n",
      "|   189310|[[1594, 0.496572]...|\n",
      "|   239370|[[2070, 0.0675105...|\n",
      "|   243440|[[3276, 0.8137020...|\n",
      "|   279120|[[2070, 0.3801165...|\n",
      "|   280340|[[649, 0.8879849]...|\n",
      "|   308930|[[513, 0.68086624...|\n",
      "|   310950|[[2070, 0.1632575...|\n",
      "|   336620|[[2463, 0.5566273...|\n",
      "|   343180|[[2068, 0.5510056...|\n",
      "|   369410|[[3293, 0.4774469...|\n",
      "|   376270|[[2259, 0.0376724...|\n",
      "|    16861|[[1594, 0.5194273...|\n",
      "|    38311|[[513, 0.24565198...|\n",
      "|    49331|[[191, 0.15010667...|\n",
      "+---------+--------------------+\n",
      "only showing top 20 rows\n",
      "\n"
     ]
    }
   ],
   "source": [
    "userRecs.show()"
   ]
  },
  {
   "cell_type": "code",
   "execution_count": 230,
   "id": "5c9883d4",
   "metadata": {},
   "outputs": [
    {
     "data": {
      "text/plain": [
       "Row(userIndex=7240, recommendations=[Row(songIndex=513, rating=0.8768270015716553), Row(songIndex=272, rating=0.5853037238121033), Row(songIndex=3056, rating=0.49465104937553406), Row(songIndex=1633, rating=0.4029790163040161), Row(songIndex=2092, rating=0.3559951186180115), Row(songIndex=2463, rating=0.2684287428855896), Row(songIndex=3169, rating=0.22356276214122772), Row(songIndex=863, rating=0.20198214054107666), Row(songIndex=2259, rating=0.2015409916639328), Row(songIndex=436, rating=0.18975648283958435)])"
      ]
     },
     "execution_count": 230,
     "metadata": {},
     "output_type": "execute_result"
    }
   ],
   "source": [
    "userRecs.first()"
   ]
  },
  {
   "cell_type": "markdown",
   "id": "cf96d46c",
   "metadata": {},
   "source": [
    "#### 4.1.2 Train and test split with random sampling  method: "
   ]
  },
  {
   "cell_type": "code",
   "execution_count": 26,
   "id": "c841d8c2",
   "metadata": {},
   "outputs": [],
   "source": [
    "als_random = ALS(maxIter=10,regParam=0.01, \n",
    "          userCol=\"userIndex\", \n",
    "          itemCol=\"songIndex\", \n",
    "          ratingCol=\"play_count\",\n",
    "          implicitPrefs = True,coldStartStrategy=\"drop\")"
   ]
  },
  {
   "cell_type": "code",
   "execution_count": 27,
   "id": "63def859",
   "metadata": {},
   "outputs": [],
   "source": [
    "model_CF_randomSplit = als_random.fit(train_random_split)\n"
   ]
  },
  {
   "cell_type": "code",
   "execution_count": 28,
   "id": "e2029b86",
   "metadata": {},
   "outputs": [],
   "source": [
    "predictions_random = model_CF_randomSplit.transform(test_random_split)"
   ]
  },
  {
   "cell_type": "code",
   "execution_count": 30,
   "id": "82c37041",
   "metadata": {
    "scrolled": true
   },
   "outputs": [
    {
     "name": "stdout",
     "output_type": "stream",
     "text": [
      "RMSE_random error = 5.325317016701323\n"
     ]
    }
   ],
   "source": [
    "# Evaluate the model by computing RMSE\n",
    "evaluator = RegressionEvaluator(metricName=\"rmse\", \n",
    "                                labelCol=\"play_count\",\n",
    "                                predictionCol=\"prediction\")\n",
    "rmse_random = evaluator.evaluate(predictions_random)\n",
    "print(\"RMSE_random error = \" + str(rmse_random))\n"
   ]
  },
  {
   "cell_type": "markdown",
   "id": "3113fe24",
   "metadata": {},
   "source": [
    "### 4.1.3 Run ALS for all dataset(2M) user-song"
   ]
  },
  {
   "cell_type": "markdown",
   "id": "0ab4617a",
   "metadata": {},
   "source": [
    "#### 4.1.3.1 Convert userIds and songIds from string to integer: "
   ]
  },
  {
   "cell_type": "code",
   "execution_count": 10,
   "id": "10937bea",
   "metadata": {},
   "outputs": [],
   "source": [
    "# get the userId column, drop the duplicates values and put them in a window to have unique and consequtive indices\n",
    "userIds= data_imp_rating_full.select('userId').dropDuplicates().withColumn(\"index\",row_number().over(Window.orderBy(monotonically_increasing_id())))"
   ]
  },
  {
   "cell_type": "code",
   "execution_count": 11,
   "id": "4ebe77a5",
   "metadata": {},
   "outputs": [
    {
     "data": {
      "text/plain": [
       "[Row(userId='b11e6a84c54160e61efdb9cb5a572b419aa33ae9', index=1),\n",
       " Row(userId='2c218a60b3d777e9e12d56c2e065a9644b5e5f41', index=2),\n",
       " Row(userId='672a1973a091e8ed8f4d46e3a740621f5fa4176c', index=3),\n",
       " Row(userId='e51bbbd28659be4018f7640978adfbd96dd2e9f8', index=4),\n",
       " Row(userId='cc9fc2eccf0d6fe78d1fb2b0c3ff924f54482169', index=5)]"
      ]
     },
     "execution_count": 11,
     "metadata": {},
     "output_type": "execute_result"
    }
   ],
   "source": [
    "userIds.head(5)"
   ]
  },
  {
   "cell_type": "code",
   "execution_count": 12,
   "id": "e422f948",
   "metadata": {},
   "outputs": [
    {
     "data": {
      "text/plain": [
       "1019318"
      ]
     },
     "execution_count": 12,
     "metadata": {},
     "output_type": "execute_result"
    }
   ],
   "source": [
    "userIds.count()"
   ]
  },
  {
   "cell_type": "code",
   "execution_count": 13,
   "id": "cfbafa33",
   "metadata": {},
   "outputs": [],
   "source": [
    "# same process as above\n",
    "songIds = data_imp_rating_full.select('songId').dropDuplicates().withColumn(\"index\",row_number().over(Window.orderBy(monotonically_increasing_id())))"
   ]
  },
  {
   "cell_type": "code",
   "execution_count": 136,
   "id": "55a1917e",
   "metadata": {},
   "outputs": [
    {
     "data": {
      "text/plain": [
       "3675"
      ]
     },
     "execution_count": 136,
     "metadata": {},
     "output_type": "execute_result"
    }
   ],
   "source": [
    "songIds.count()"
   ]
  },
  {
   "cell_type": "code",
   "execution_count": 137,
   "id": "3a4e0461",
   "metadata": {},
   "outputs": [
    {
     "data": {
      "text/plain": [
       "[Row(songId='SOTSIIH12A8C13A516', index=1),\n",
       " Row(songId='SOVPUVS12A6D4F7988', index=2),\n",
       " Row(songId='SOCKUUJ12A6D4FA41C', index=3),\n",
       " Row(songId='SOJUGKQ12A8C13A83A', index=4),\n",
       " Row(songId='SOSIVPO12AB017D5E9', index=5)]"
      ]
     },
     "execution_count": 137,
     "metadata": {},
     "output_type": "execute_result"
    }
   ],
   "source": [
    "songIds.head(5)"
   ]
  },
  {
   "cell_type": "markdown",
   "id": "e8517b6a",
   "metadata": {},
   "source": [
    "##### Rename the columns and add to the data_imp_rating dataset"
   ]
  },
  {
   "cell_type": "code",
   "execution_count": 138,
   "id": "d5aa2e6c",
   "metadata": {},
   "outputs": [],
   "source": [
    "userIds = userIds.withColumnRenamed('index', 'userIndex')"
   ]
  },
  {
   "cell_type": "code",
   "execution_count": 139,
   "id": "4da7829f",
   "metadata": {},
   "outputs": [],
   "source": [
    "songIds = songIds.withColumnRenamed('index', 'songIndex')"
   ]
  },
  {
   "cell_type": "code",
   "execution_count": 140,
   "id": "9575c3de",
   "metadata": {},
   "outputs": [],
   "source": [
    "data_imp_rating = data_imp_rating.join(userIds, ['userId'])"
   ]
  },
  {
   "cell_type": "code",
   "execution_count": 141,
   "id": "88024a02",
   "metadata": {},
   "outputs": [],
   "source": [
    "data_imp_rating = data_imp_rating.join(songIds, ['songId'])"
   ]
  },
  {
   "cell_type": "code",
   "execution_count": 142,
   "id": "eddb1058",
   "metadata": {
    "scrolled": true
   },
   "outputs": [
    {
     "data": {
      "text/plain": [
       "['songId', 'userId', 'play_count', 'userIndex', 'songIndex']"
      ]
     },
     "execution_count": 142,
     "metadata": {},
     "output_type": "execute_result"
    }
   ],
   "source": [
    "# Finall data Model of implicit rating dataset\n",
    "data_imp_rating.columns"
   ]
  },
  {
   "cell_type": "code",
   "execution_count": null,
   "id": "daaf714a",
   "metadata": {},
   "outputs": [],
   "source": []
  },
  {
   "cell_type": "code",
   "execution_count": 149,
   "id": "fa5f0bfd",
   "metadata": {},
   "outputs": [],
   "source": [
    "(train_random_split_F, test_random_split_F) = data_imp_rating_full.randomSplit([0.8, 0.2], seed = 42)"
   ]
  },
  {
   "cell_type": "code",
   "execution_count": 150,
   "id": "98258646",
   "metadata": {},
   "outputs": [],
   "source": [
    "als_random_complete = ALS(maxIter=10,regParam=0.01, \n",
    "          userCol=\"userIndex\", \n",
    "          itemCol=\"songIndex\", \n",
    "          ratingCol=\"play_count\",\n",
    "          implicitPrefs = True,coldStartStrategy=\"drop\")"
   ]
  },
  {
   "cell_type": "code",
   "execution_count": 151,
   "id": "c1e869a9",
   "metadata": {},
   "outputs": [],
   "source": [
    "model_CF_randomSplit_F = als_random_complete.fit(train_random_split_F)"
   ]
  },
  {
   "cell_type": "code",
   "execution_count": 154,
   "id": "6420071c",
   "metadata": {},
   "outputs": [],
   "source": [
    "predictions_random_F = model_CF_randomSplit_F.transform(test_random_split_F)"
   ]
  },
  {
   "cell_type": "code",
   "execution_count": 156,
   "id": "1d769187",
   "metadata": {},
   "outputs": [
    {
     "name": "stdout",
     "output_type": "stream",
     "text": [
      "RMSE_random error = 4.427865231011473\n"
     ]
    }
   ],
   "source": [
    "# Evaluate the model by computing RMSE\n",
    "evaluator_F = RegressionEvaluator(metricName=\"rmse\", \n",
    "                                labelCol=\"play_count\",\n",
    "                                predictionCol=\"prediction\")\n",
    "rmse_random_F = evaluator.evaluate(predictions_random_F)\n",
    "print(\"RMSE_random error = \" + str(rmse_random_F))"
   ]
  },
  {
   "cell_type": "markdown",
   "id": "51966e35",
   "metadata": {},
   "source": [
    "## 5. KMeans Classifier for New users"
   ]
  },
  {
   "cell_type": "code",
   "execution_count": 138,
   "id": "e213a6af",
   "metadata": {},
   "outputs": [],
   "source": [
    "from pyspark.ml.clustering import KMeans\n",
    "from pyspark.ml.evaluation import ClusteringEvaluator\n",
    "import random"
   ]
  },
  {
   "cell_type": "code",
   "execution_count": 139,
   "id": "8eb29278",
   "metadata": {},
   "outputs": [],
   "source": [
    "\n",
    "dataset= data_MSD_scaled.select('song_id','duration', 'key', 'loudness','mode', 'tempo',\n",
    "                                'time_signature','artist_hotttnesss', 'artist_familiarity')"
   ]
  },
  {
   "cell_type": "code",
   "execution_count": 140,
   "id": "36df7158",
   "metadata": {},
   "outputs": [],
   "source": [
    "assembler1 = VectorAssembler(inputCols=['duration', 'key', 'loudness',\n",
    "                                        'mode', 'tempo', 'time_signature',\n",
    "                                        'artist_hotttnesss', 'artist_familiarity'],outputCol='features')\n",
    "df1 = assembler1.transform(dataset)"
   ]
  },
  {
   "cell_type": "code",
   "execution_count": 141,
   "id": "9bdb0ce4",
   "metadata": {},
   "outputs": [
    {
     "data": {
      "text/plain": [
       "['song_id',\n",
       " 'duration',\n",
       " 'key',\n",
       " 'loudness',\n",
       " 'mode',\n",
       " 'tempo',\n",
       " 'time_signature',\n",
       " 'artist_hotttnesss',\n",
       " 'artist_familiarity',\n",
       " 'features']"
      ]
     },
     "execution_count": 141,
     "metadata": {},
     "output_type": "execute_result"
    }
   ],
   "source": [
    "df1.columns"
   ]
  },
  {
   "cell_type": "code",
   "execution_count": 142,
   "id": "5bf06c8f",
   "metadata": {},
   "outputs": [],
   "source": [
    "# Trains a k-means model.\n",
    "kmeans = KMeans().setK(10)\n",
    "model = kmeans.fit(df1.select('features'))"
   ]
  },
  {
   "cell_type": "code",
   "execution_count": 143,
   "id": "ac2f9175",
   "metadata": {},
   "outputs": [],
   "source": [
    "# Make predictions\n",
    "predictions = model.transform(df1)"
   ]
  },
  {
   "cell_type": "code",
   "execution_count": 144,
   "id": "f3c8fbdd",
   "metadata": {
    "scrolled": false
   },
   "outputs": [],
   "source": [
    "songs_predicted_class=predictions.select('song_id','prediction')"
   ]
  },
  {
   "cell_type": "code",
   "execution_count": 145,
   "id": "937700c8",
   "metadata": {},
   "outputs": [
    {
     "name": "stdout",
     "output_type": "stream",
     "text": [
      "+------------------+----------+\n",
      "|           song_id|prediction|\n",
      "+------------------+----------+\n",
      "|SOMZWCG12A8C13C480|         4|\n",
      "|SOCIWDW12A8C13D406|         0|\n",
      "|SOXVLOJ12AB0189215|         6|\n",
      "|SONHOTT12A8C13493C|         3|\n",
      "|SOFSOCN12A8C143F5D|         3|\n",
      "|SOYMRWW12A6D4FAB14|         2|\n",
      "|SOMJBYD12A6D4F8557|         9|\n",
      "|SOHKNRJ12A6701D1F8|         4|\n",
      "|SOIAZJW12AB01853F1|         2|\n",
      "|SOUDSGM12AC9618304|         0|\n",
      "+------------------+----------+\n",
      "only showing top 10 rows\n",
      "\n"
     ]
    }
   ],
   "source": [
    "songs_predicted_class.show(10)"
   ]
  },
  {
   "cell_type": "code",
   "execution_count": 147,
   "id": "385bfc21",
   "metadata": {},
   "outputs": [],
   "source": [
    "window = Window.partitionBy(songs_predicted_class['prediction']).orderBy('song_id')"
   ]
  },
  {
   "cell_type": "code",
   "execution_count": 148,
   "id": "316aa56d",
   "metadata": {},
   "outputs": [],
   "source": [
    "predict_class = songs_predicted_class.select('*', rank().over(window).alias('rank'))"
   ]
  },
  {
   "cell_type": "code",
   "execution_count": 152,
   "id": "b6623f32",
   "metadata": {},
   "outputs": [
    {
     "data": {
      "text/plain": [
       "[Row(prediction=1, max(rank)=1386),\n",
       " Row(prediction=6, max(rank)=525),\n",
       " Row(prediction=3, max(rank)=1042),\n",
       " Row(prediction=5, max(rank)=1119),\n",
       " Row(prediction=9, max(rank)=573),\n",
       " Row(prediction=4, max(rank)=1272),\n",
       " Row(prediction=8, max(rank)=827),\n",
       " Row(prediction=7, max(rank)=334),\n",
       " Row(prediction=2, max(rank)=1435),\n",
       " Row(prediction=0, max(rank)=1483)]"
      ]
     },
     "execution_count": 152,
     "metadata": {},
     "output_type": "execute_result"
    }
   ],
   "source": [
    "# Adding rank to based on songs class \n",
    "max_rank = predict_class.groupby('prediction').max('rank').collect()\n",
    "max_rank"
   ]
  },
  {
   "cell_type": "code",
   "execution_count": 159,
   "id": "6b2e2d80",
   "metadata": {},
   "outputs": [
    {
     "data": {
      "text/plain": [
       "[[1, 231],\n",
       " [6, 34],\n",
       " [3, 863],\n",
       " [5, 403],\n",
       " [9, 126],\n",
       " [4, 317],\n",
       " [8, 811],\n",
       " [7, 245],\n",
       " [2, 1416],\n",
       " [0, 277]]"
      ]
     },
     "execution_count": 159,
     "metadata": {},
     "output_type": "execute_result"
    }
   ],
   "source": [
    "max_rank_lst = [[a[0],random.randint(0, a[1])] for a in max_rank]\n",
    "max_rank_lst"
   ]
  },
  {
   "cell_type": "code",
   "execution_count": 162,
   "id": "9a32e02b",
   "metadata": {},
   "outputs": [],
   "source": [
    "#applying the 10 random ranks on the coresponding class\n",
    "rdf=[]\n",
    "for a in max_rank_lst:\n",
    "    rdf.append(predict_class.filter((col('prediction')==a[0])&\n",
    "                                        (col('rank')== a[1])).collect())"
   ]
  },
  {
   "cell_type": "code",
   "execution_count": 163,
   "id": "c5f853e5",
   "metadata": {
    "scrolled": false
   },
   "outputs": [
    {
     "data": {
      "text/plain": [
       "[[Row(song_id='SODXECL12A8C142265', prediction=1, rank=231)],\n",
       " [Row(song_id='SOBEGZR12AB0182008', prediction=6, rank=34)],\n",
       " [Row(song_id='SOUPVPL12AB0189B9F', prediction=3, rank=863)],\n",
       " [Row(song_id='SOIZRPR12AB0180BF1', prediction=5, rank=403)],\n",
       " [Row(song_id='SOFKARX12A8AE485EE', prediction=9, rank=126)],\n",
       " [Row(song_id='SOFUPPL12A8C143A06', prediction=4, rank=317)],\n",
       " [Row(song_id='SOZMVGJ12A8AE4565D', prediction=8, rank=811)],\n",
       " [Row(song_id='SORZRPC12A8C13A1B1', prediction=7, rank=245)],\n",
       " [Row(song_id='SOZOGUO12A8C13BD9E', prediction=2, rank=1416)],\n",
       " [Row(song_id='SOENDEG12AB01887F5', prediction=0, rank=277)]]"
      ]
     },
     "execution_count": 163,
     "metadata": {},
     "output_type": "execute_result"
    }
   ],
   "source": [
    "rdf"
   ]
  },
  {
   "cell_type": "code",
   "execution_count": null,
   "id": "1cc952f8",
   "metadata": {},
   "outputs": [],
   "source": []
  },
  {
   "cell_type": "code",
   "execution_count": null,
   "id": "a2ad1187",
   "metadata": {},
   "outputs": [],
   "source": []
  },
  {
   "cell_type": "code",
   "execution_count": null,
   "id": "28de9e28",
   "metadata": {},
   "outputs": [],
   "source": []
  },
  {
   "cell_type": "code",
   "execution_count": null,
   "id": "8ded0f0b",
   "metadata": {},
   "outputs": [],
   "source": []
  }
 ],
 "metadata": {
  "kernelspec": {
   "display_name": "Python 3 (ipykernel)",
   "language": "python",
   "name": "python3"
  },
  "language_info": {
   "codemirror_mode": {
    "name": "ipython",
    "version": 3
   },
   "file_extension": ".py",
   "mimetype": "text/x-python",
   "name": "python",
   "nbconvert_exporter": "python",
   "pygments_lexer": "ipython3",
   "version": "3.8.12"
  }
 },
 "nbformat": 4,
 "nbformat_minor": 5
}
